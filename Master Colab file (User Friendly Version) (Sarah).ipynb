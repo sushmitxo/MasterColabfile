{
  "nbformat": 4,
  "nbformat_minor": 0,
  "metadata": {
    "colab": {
      "name": "Master Colab file (User Friendly Version) (Sarah).ipynb",
      "provenance": [],
      "collapsed_sections": [
        "ZVIyGBSmjlOY",
        "HD4wnfNv2Mza",
        "jmJODw6fjxdN",
        "PpT10ffOj8rM",
        "SjG0beyAkMwe",
        "AAOkoLYa1nQb",
        "86Nc8spd4Yn6",
        "euXxcRjZkeea",
        "Lmdc7OFamBAn",
        "8YFON0D4mVdr",
        "_hYxAJhHm52d",
        "BXG8HyU3nwIu",
        "6VtdAFQkJPM0",
        "u74H4AaJZTUT",
        "YZaIlL-X_-Xv",
        "9yoM3JwNJlhZ",
        "__mhICQGWeTl",
        "5Yl9WRu1JwQP",
        "9Bie4c4MWtn9",
        "rpRpH_DCJ30a",
        "sUjNTr6XpA-M",
        "NdrxJxC2KLZ8",
        "8A46PwAJMxpt",
        "czee_wyhM9xj",
        "NkHoLXwuNVr-",
        "WEsQDiu3SYVx",
        "_KYtrGYTStVu",
        "8y0N4R46TDWW",
        "qRFsj7eCTNxm",
        "8hXX3_M1TX0w",
        "kg25ihU1T0WY",
        "Jg6UxrykW77u"
      ],
      "toc_visible": true,
      "machine_shape": "hm"
    },
    "kernelspec": {
      "name": "python3",
      "display_name": "Python 3"
    },
    "accelerator": "GPU"
  },
  "cells": [
    {
      "cell_type": "code",
      "metadata": {
        "id": "AVpvO7aMjVcp",
        "cellView": "form"
      },
      "source": [
        "#@title ⬅️ Blackpearl Ascii on all subfolders\n",
        "  Path = \"/content/drive/My Drive/\" #@param {type:\"string\"}\n",
        "\n",
        "  import IPython, os\n",
        "  from IPython.display import HTML, clear_output\n",
        "  from google.colab import drive\n",
        "\n",
        "  if not os.path.exists(\"/content/drive\"):\n",
        "    try:\n",
        "      drive.mount(\"/content/drive\")\n",
        "      clear_output(wait=True)\n",
        "    except:\n",
        "      print(\"Some error in mounting process\")\n",
        "      clear_output() \n",
        "  try:\n",
        "    get_ipython().system_raw(\"cd '$Path' && curl -s https://pastebin.com/raw/pA4S96fa | bash && cd /content\")\n",
        "    display(HTML(\"<center><h2 style=\\\"font-family:Trebuchet MS;color:#00b24c;\\\">Success</h2><br></center>\"))\n",
        "  except:\n",
        "    display(HTML(\"<center><h2 style=\\\"font-family:Trebuchet MS;color:#ce2121;\\\">Failed</h2><br></center>\"))"
      ],
      "execution_count": null,
      "outputs": []
    },
    {
      "cell_type": "markdown",
      "metadata": {
        "id": "FZutEIDhlKDA"
      },
      "source": [
        "# Run this cell to crash colab and avail 25GB RAM\n",
        "**(More stable connection I guess. I am not sure)**\n",
        "\n",
        "**(Provided by Shix)**"
      ]
    },
    {
      "cell_type": "code",
      "metadata": {
        "id": "OH3xVkwWmPYL",
        "cellView": "form"
      },
      "source": [
        "#@title ⬅️ Run This Cell to Crash colab and get 25GB RAM\n",
        "some_str = ' ' * 5120000000000"
      ],
      "execution_count": null,
      "outputs": []
    },
    {
      "cell_type": "markdown",
      "metadata": {
        "id": "ZVIyGBSmjlOY"
      },
      "source": [
        "# <img src='https://i.ibb.co/nD9NnTc/drive.png' height=\"65\" alt=\"GDrive\"/>\n",
        "# 1 . Mounting Gdrive\n",
        "**(Provided by Google)**"
      ]
    },
    {
      "cell_type": "code",
      "metadata": {
        "id": "6DzJx4rdjvUQ"
      },
      "source": [
        "from google.colab import drive\n",
        "drive.mount('/content/drive')"
      ],
      "execution_count": null,
      "outputs": []
    },
    {
      "cell_type": "markdown",
      "metadata": {
        "id": "HD4wnfNv2Mza"
      },
      "source": [
        "# 2 . Force sync mounted drive & actual drive\n",
        "\n",
        "---\n",
        "\n",
        "(Warning: running this cell will unmount your drive)\n",
        "\n",
        "---\n",
        "\n",
        "**(Provided by abnormalartist)**"
      ]
    },
    {
      "cell_type": "code",
      "metadata": {
        "id": "1aQXKN8I2d0-"
      },
      "source": [
        "from google.colab import drive\n",
        "drive.flush_and_unmount()"
      ],
      "execution_count": null,
      "outputs": []
    },
    {
      "cell_type": "markdown",
      "metadata": {
        "id": "jmJODw6fjxdN"
      },
      "source": [
        "# 3 . Make a Directory\n",
        "**(Last modified by Sarah)**"
      ]
    },
    {
      "cell_type": "code",
      "metadata": {
        "id": "DGp0wCqBj2Qo",
        "cellView": "form"
      },
      "source": [
        "#@title ⬅️ Run This Cell to Create a new directory\n",
        "newfolder= \"\" #@param {type:\"string\"}\n",
        "!mkdir \"$newfolder\""
      ],
      "execution_count": null,
      "outputs": []
    },
    {
      "cell_type": "markdown",
      "metadata": {
        "id": "PpT10ffOj8rM"
      },
      "source": [
        "# 4 . Deleting a Directory\n",
        "**(Last modified by Sarah)**"
      ]
    },
    {
      "cell_type": "code",
      "metadata": {
        "id": "igqT8UdTkCT3",
        "cellView": "form"
      },
      "source": [
        "#@title ⬅️ Run This Cell to Delete a Directory\n",
        "import os, shutil\n",
        "path = \"/content/Movies Collection \" #@param {type:\"string\"}\n",
        "shutil.rmtree(path)\n",
        "print(\"Successfully deleted\")"
      ],
      "execution_count": null,
      "outputs": []
    },
    {
      "cell_type": "markdown",
      "metadata": {
        "id": "SjG0beyAkMwe"
      },
      "source": [
        "# 5 (A). qBittorrent (SERVEO Veriosn)\n",
        "\n",
        "\n",
        "**Username:- admin**\n",
        "\n",
        "**Password:- adminadmin**\n",
        "\n",
        "\n",
        "**(Provided by MinorMole and Shix)**"
      ]
    },
    {
      "cell_type": "code",
      "metadata": {
        "id": "aO74zstqkSsh",
        "cellView": "form"
      },
      "source": [
        "# ============================= FORM ============================= #\n",
        "#@markdown <h2>⬅️ Click Here to Install qBittorrent</h2>\n",
        "#@markdown <h4>❌ Don't use the mounted Google Drive as a save path for torrent; data corruption will most likely occur.</h4>\n",
        "#@markdown <h4>🟢 The rclone method is recommended and always the safest.</h4>\n",
        "Old_Version = False #@param {type:\"boolean\"}\n",
        "# ================================================================ #\n",
        "\n",
        "import os, psutil, IPython, uuid, time\n",
        "import ipywidgets as widgets\n",
        "\n",
        "from IPython.display import HTML, clear_output\n",
        "from google.colab import output\n",
        "\n",
        "class MakeButton(object):\n",
        "  def __init__(self, title, callback):\n",
        "    self._title = title\n",
        "    self._callback = callback\n",
        "  def _repr_html_(self):\n",
        "    callback_id = 'button-' + str(uuid.uuid4())\n",
        "    output.register_callback(callback_id, self._callback)\n",
        "    template = \"\"\"<button class=\"p-Widget jupyter-widgets jupyter-button widget-button mod-info\" id=\"{callback_id}\">{title}</button>\n",
        "        <script>\n",
        "          document.querySelector(\"#{callback_id}\").onclick = (e) => {{\n",
        "            google.colab.kernel.invokeFunction('{callback_id}', [], {{}})\n",
        "            e.preventDefault();\n",
        "          }};\n",
        "        </script>\"\"\"\n",
        "    html = template.format(title=self._title, callback_id=callback_id)\n",
        "    return html\n",
        "  \n",
        "def MakeLabel(description, button_style):\n",
        "  return widgets.Button(description=description, disabled=True, button_style=button_style)\n",
        "\n",
        "def RandomGenerator():\n",
        "  return time.strftime(\"%S\") + str(time.time()).split(\".\")[-1]\n",
        "\n",
        "def CheckProcess(process, command):\n",
        "  for pid in psutil.pids():\n",
        "    try:\n",
        "      p = psutil.Process(pid)\n",
        "      if process in p.name():\n",
        "        for arg in p.cmdline():\n",
        "          if command in str(arg):  \n",
        "            return True\n",
        "          else:\n",
        "            pass\n",
        "      else:\n",
        "        pass\n",
        "    except:\n",
        "      continue\n",
        "  \n",
        "def AutoSSH(name,port):\n",
        "  get_ipython().system_raw(\"autossh -l \" + name + \" -M 0 -fNT -o 'StrictHostKeyChecking=no' -o 'ServerAliveInterval 300' -o 'ServerAliveCountMax 30' -R 80:localhost:\" + port + \" ssh.localhost.run &\")\n",
        "  get_ipython().system_raw(\"autossh -M 0 -fNT -o 'StrictHostKeyChecking=no' -o 'ServerAliveInterval 300' -o 'ServerAliveCountMax 30' -R \" + name + \":80:localhost:\" + port + \" serveo.net &\")\n",
        "\n",
        "def Start_Server():\n",
        "  if CheckProcess(\"qbittorrent-nox\", \"\") != True:\n",
        "    get_ipython().system_raw(\"qbittorrent-nox -d --webui-port=6006\")\n",
        "  if CheckProcess(\"autossh\", \"qb\" + Random_Number) != True:\n",
        "      AutoSSH(\"qb\" + Random_Number, \"6006\")\n",
        "\n",
        "try:\n",
        "  try:\n",
        "    Random_Number\n",
        "  except NameError:\n",
        "    display(MakeLabel(\"Installing in Progress\", \"warning\"))\n",
        "    Random_Number = RandomGenerator()\n",
        "    get_ipython().system_raw(\"rm -rf /content/sample_data/ &\")\n",
        "  if os.path.isfile(\"/usr/bin/qbittorrent-nox\") == False:\n",
        "    get_ipython().system_raw(\"apt update -qq -y && yes \"\" | add-apt-repository ppa:qbittorrent-team/qbittorrent-stable\")\n",
        "    if Old_Version == True:\n",
        "      get_ipython().system_raw(\"apt install qbittorrent-nox=4.0.3-1 -qq -y\")\n",
        "    else:\n",
        "      get_ipython().system_raw(\"apt install qbittorrent-nox -qq -y\")\n",
        "    get_ipython().system_raw(\"mkdir -p -m 666 /{content/qBittorrent,root/{.qBittorrent_temp,.config/qBittorrent}} && wget -q https://minormole.github.io/RcloneLab/res/qbittorrent/qBittorrent.conf -O /root/.config/qBittorrent/qBittorrent.conf\")\n",
        "  if os.path.isfile(\"/usr/bin/autossh\") == False:\n",
        "    get_ipython().system_raw(\"apt install autossh -qq -y\")\n",
        "  Start_Server()\n",
        "  clear_output(wait=True)\n",
        "  display(MakeLabel(\"✔ Successfully\", \"success\"), MakeButton(\"Recheck\", Start_Server), HTML(\"<h2 style=\\\"font-family:Trebuchet MS;color:#4f8bd6;\\\">qBittorrent</h2><h4 style=\\\"font-family:Trebuchet MS;color:#4f8bd6;\\\">\" \\\n",
        "                    \"<a style=\\\"font-family:Trebuchet MS;color:#356ebf;\\\" href=\\\"http://qb\" + Random_Number + \".serveo.net\\\" target=\\\"_blank\\\">Website</a><br>\" \\\n",
        "                    \"<a style=\\\"font-family:Trebuchet MS;color:#356ebf;\\\" href=\\\"http://qb\" + Random_Number + \".localhost.run\\\" target=\\\"_blank\\\">Website (Backup)</a></h4>\"))\n",
        "except:\n",
        "  clear_output(wait=True)\n",
        "  display(MakeLabel(\"✘ Unsuccessfully\", \"danger\"))"
      ],
      "execution_count": null,
      "outputs": []
    },
    {
      "cell_type": "markdown",
      "metadata": {
        "id": "AAOkoLYa1nQb"
      },
      "source": [
        "# 5 (B). qBittorrent (NGROK Version)\n",
        "\n",
        "**Username:- admin**\n",
        "\n",
        "**Password:- adminadmin**\n",
        "\n",
        "**(Provided by Laxudope)**\n"
      ]
    },
    {
      "cell_type": "code",
      "metadata": {
        "id": "njNyFaPc4Wyy",
        "cellView": "form"
      },
      "source": [
        "#@title ⬅️ Run This Cell for qBittorrent v4.1.7 Web UI\n",
        "Ngrok_Token = \"\" #@param {type:\"string\"}\n",
        "import os, time, urllib.request, json; from IPython.display import clear_output\n",
        "if os.path.isfile(\"/usr/bin/qbittorrent-nox\") == False:\n",
        "    get_ipython().system_raw(\"apt update -qq -y && yes \"\" | add-apt-repository ppa:qbittorrent-team/qbittorrent-stable\")\n",
        "    get_ipython().system_raw(\"apt install qbittorrent-nox\")\n",
        "    get_ipython().system_raw(\"mkdir -p -m 666 /{content/qBittorrent,root/{.qBittorrent_temp,.config/qBittorrent}} && curl -s https://pastebin.com/raw/XbthBkJU -o /root/.config/qBittorrent/qBittorrent.conf\")\n",
        "    print(\"qBittorrent successfully installed.\")\n",
        "    clear_output(wait=True)\n",
        "else:\n",
        "    print(\"qBittorrent already installed. Skipping...\")\n",
        "    clear_output(wait=True)\n",
        "    !pkill qbittorrent-nox\n",
        "    \n",
        "!qbittorrent-nox -d --webui-port=4444\n",
        "print(\"qBittorrent started \")\n",
        "clear_output(wait=True)\n",
        "\n",
        "if os.path.isfile(\"/usr/local/bin/ngrok\") == False:\n",
        "  !wget -q -c -nc https://bin.equinox.io/c/4VmDzA7iaHb/ngrok-stable-linux-amd64.zip\n",
        "  !unzip -qq -n ngrok-stable-linux-amd64.zip\n",
        "  !mv ngrok /usr/local/bin/ngrok\n",
        "  !rm -f /content/ngrok-stable-linux-amd64.zip\n",
        "  print(\"ngrok successfully installed.\")\n",
        "  clear_output(wait=True)\n",
        "else:\n",
        "  print(\"ngrok already installed. Skipping... \")\n",
        "  clear_output(wait=True)\n",
        "  !pkill ngrok\n",
        "  \n",
        "if os.path.isfile(\"/usr/bin/rclone\") == False:\n",
        "    get_ipython().system_raw('curl https://rclone.org/install.sh | sudo bash &')\n",
        "    print(\"Rclone successfully installed\")\n",
        "    clear_output(wait=True)\n",
        "else:\n",
        "    print(\"Rclone already installed. Skipping...\")\n",
        "    clear_output(wait=True)\n",
        "\n",
        "get_ipython().system_raw('/usr/local/bin/ngrok authtoken $Ngrok_Token && /usr/local/bin/ngrok http 4444 &')\n",
        "print(\"Hold on...\")\n",
        "time.sleep(10)\n",
        "clear_output(wait=True)\n",
        "with urllib.request.urlopen('http://localhost:4040/api/tunnels') as response:\n",
        "  data = json.loads(response.read().decode())\n",
        "  host = data['tunnels'][0]['public_url'][8:]\n",
        "  print(f'Open this link in new tab http://{host}')"
      ],
      "execution_count": null,
      "outputs": []
    },
    {
      "cell_type": "markdown",
      "metadata": {
        "id": "86Nc8spd4Yn6"
      },
      "source": [
        "# 5 (c). Flood + Rutorrent (NGROK Version)\n",
        "**(add \"127.0.0.1\" in host and \"5000\" in port when asked for)**"
      ]
    },
    {
      "cell_type": "code",
      "metadata": {
        "id": "UH6qBrac5X7w",
        "cellView": "form"
      },
      "source": [
        "#@title ⬅️ Run This Cell for Flood + rtorrent\n",
        "Ngrok_Token = \"\" #@param {type:\"string\"}\n",
        "import os, time, urllib.request, json, psutil, uuid; from IPython.display import clear_output\n",
        "\n",
        "\n",
        "\n",
        "def CheckProcess(processName):\n",
        "    for proc in psutil.process_iter():\n",
        "        try:\n",
        "            if processName.lower() in proc.name().lower():\n",
        "                return True\n",
        "        except (psutil.NoSuchProcess, psutil.AccessDenied, psutil.ZombieProcess):\n",
        "            pass\n",
        "    return False;\n",
        "  \n",
        "def Start_Server():\n",
        "  if CheckProcess(\"screen\") == False or CheckProcess(\"rtorrent main\") == False:\n",
        "    !/usr/bin/screen -d -m -S rtorrent /usr/bin/rtorrent\n",
        "  get_ipython().system_raw(\"NODE_ENV=production npm start --prefix /root/.Flood/ &\")\n",
        "\n",
        "  \n",
        "if os.path.isfile(\"/usr/bin/rtorrent\") == False:\n",
        "    !rm -rf /content/sample_data/\n",
        "    !apt update -qq -y\n",
        "    !npm i -g npm\n",
        "    !apt install rtorrent screen -qq -y\n",
        "    !mkdir -p -m 666 /{content/rTorrent/,root/.rTorrent_session}\n",
        "    !mkdir -p -m 777 /root/.Flood/\n",
        "    !curl -s https://raw.githubusercontent.com/SameerkumarP/Rc-v-2.0/master/res/rtorrent/rtorrent.rc -o /root/.rtorrent.rc\n",
        "    !chmod 666 /root/.rtorrent.rc\n",
        "    !git clone https://github.com/MinorMole/FloodLab.git /root/.Flood/\n",
        "\n",
        "Start_Server()\n",
        "\n",
        "if os.path.isfile(\"/usr/local/bin/ngrok\") == False:\n",
        "  !wget -q -c -nc https://bin.equinox.io/c/4VmDzA7iaHb/ngrok-stable-linux-amd64.zip\n",
        "  !unzip -qq -n ngrok-stable-linux-amd64.zip\n",
        "  !mv ngrok /usr/local/bin/ngrok\n",
        "  !rm -f /content/ngrok-stable-linux-amd64.zip\n",
        "  clear_output(wait=True)\n",
        "else:\n",
        "  !pkill ngrok\n",
        "\n",
        "get_ipython().system_raw('/usr/local/bin/ngrok authtoken $Ngrok_Token && /usr/local/bin/ngrok tcp 3000 &')\n",
        "\n",
        "time.sleep(10)\n",
        "with urllib.request.urlopen('http://localhost:4040/api/tunnels') as response:\n",
        "  data = json.loads(response.read().decode())\n",
        "  (host, port) = data['tunnels'][0]['public_url'][6:].split(':')\n",
        "  print(f'Open this link in new tab http://{host}:{port}')"
      ],
      "execution_count": null,
      "outputs": []
    },
    {
      "cell_type": "markdown",
      "metadata": {
        "id": "euXxcRjZkeea"
      },
      "source": [
        "# 6 . Peerflix Server\n",
        "**(Provided by | K E N W A Y |)**"
      ]
    },
    {
      "cell_type": "code",
      "metadata": {
        "id": "JWzWg153kk0s",
        "cellView": "form"
      },
      "source": [
        "#@markdown <h3>📝INSTALL NODEJS</h3>\n",
        "import logging\n",
        "import os\n",
        "\n",
        "if os.path.exists(\"/tools/node/\") == False:\n",
        "  !apt install nodejs\n",
        "  !npm i -g npm\n",
        "else:\n",
        "  !echo \"nodejs Already installed\""
      ],
      "execution_count": null,
      "outputs": []
    },
    {
      "cell_type": "code",
      "metadata": {
        "id": "DTCBCIg5km77",
        "cellView": "form"
      },
      "source": [
        "#@markdown <h3>📝INSTALL PEERFLIX-SERVER</h3>\n",
        "from IPython.display import HTML, clear_output\n",
        "\n",
        "if os.path.exists(\"/tools/node/lib/node_modules/peerflix-server/\") == False:\n",
        "  !npm install -g peerflix-server\n",
        "  clear_output()\n",
        "  !echo \"succeeded\"\n",
        "else:\n",
        "  !echo \"peerflix-server Already installed\""
      ],
      "execution_count": null,
      "outputs": []
    },
    {
      "cell_type": "markdown",
      "metadata": {
        "id": "z8XsfIHckpgD"
      },
      "source": [
        "**PEERFLIX SERVER CONFIGURATION**"
      ]
    },
    {
      "cell_type": "code",
      "metadata": {
        "id": "Ta4K_ANWktR3",
        "cellView": "form"
      },
      "source": [
        "# ============================= FORM ============================= #\n",
        "#@markdown <h3>📝CREATE PEERFLIX CONFIG FILE</h3>\n",
        "connections = 500 #@param {type:\"integer\"}\n",
        "addTrackersFromGithub = True #@param {type:\"boolean\"}\n",
        "#https://github.com/thim0o/Google-Colab-Peerflix-Server\n",
        "# ============================= FORM ============================= #\n",
        "\n",
        "import os\n",
        "import logging\n",
        "import json\n",
        "import requests\n",
        "\n",
        "\n",
        "\n",
        "#CREATE THE CONFIG\n",
        "data = {}  \n",
        "\n",
        "data['connections'] = connections\n",
        "data['path'] = \"/content/peerflix/\" \n",
        "data['dht'] = True \n",
        "data['tracker'] = True\n",
        "\n",
        "if addTrackersFromGithub:\n",
        "  responseText = requests.get(\"https://raw.githubusercontent.com/ngosang/trackerslist/master/trackers_all.txt\").text\n",
        "  trackers = responseText.split(\"\\n\\n\")\n",
        "  data['trackers'] = trackers\n",
        "  \n",
        "  infoText = str(len(trackers)) + \" Trackers loaded from github\"\n",
        "  \n",
        "  !echo $infoText\n",
        "\n",
        "\n",
        "\n",
        "# SAVE THE CONFIG\n",
        "!mkdir /root/.config/peerflix-server/\n",
        "configFile = open(r\"/root/.config/peerflix-server/config.json\", \"w+\")\n",
        "json.dump(data, configFile)\n",
        "configFile.close()\n",
        "\n",
        "\n",
        "\n",
        "# PRINT THE CONFIG\n",
        "f = open(r\"/root/.config/peerflix-server/config.json\", \"r\")\n",
        "text = f.read()\n",
        "f.close()\n",
        "\n",
        "#!echo $text\n",
        "clear_output()\n"
      ],
      "execution_count": null,
      "outputs": []
    },
    {
      "cell_type": "code",
      "metadata": {
        "id": "mwpvuGawkv0P",
        "cellView": "form"
      },
      "source": [
        "# ============================= FORM ============================= #\n",
        "#@markdown <h3>📝 Enter which localhost port</h3>\n",
        "port = 9001 #@param {type:\"integer\"}\n",
        "\n",
        "#@markdown <h3>📝 Subdomain (Random if empty) (NOTE: this has to be unique!!!)</h3>\n",
        "subdomain = \"\" #@param {type:\"string\"}\n",
        "#https://github.com/thim0o/Google-Colab-Peerflix-Server\n",
        "# ============================= FORM ============================= #\n",
        "\n",
        "\n",
        "import os, psutil, IPython, uuid, time\n",
        "import ipywidgets as widgets\n",
        "\n",
        "from IPython.display import HTML, clear_output\n",
        "from google.colab import output\n",
        "import logging\n",
        "\n",
        "!sudo pkill -f autossh\n",
        "\n",
        "SuccessRun = widgets.Button(\n",
        "    description='✔ Successfully',\n",
        "    disabled=True,\n",
        "    button_style='success'\n",
        ")\n",
        "\n",
        "UnsuccessfullyRun = widgets.Button(\n",
        "    description='✘ Unsuccessfully',\n",
        "    disabled=True,\n",
        "    button_style='danger'\n",
        ")\n",
        "\n",
        "class MakeButton(object):\n",
        "  def __init__(self, title, callback):\n",
        "    self._title = title\n",
        "    self._callback = callback\n",
        "  def _repr_html_(self):\n",
        "    callback_id = 'button-' + str(uuid.uuid4())\n",
        "    output.register_callback(callback_id, self._callback)\n",
        "    template = \"\"\"<button class=\"p-Widget jupyter-widgets jupyter-button widget-button mod-info\" id=\"{callback_id}\">{title}</button>\n",
        "        <script>\n",
        "          document.querySelector(\"#{callback_id}\").onclick = (e) => {{\n",
        "            google.colab.kernel.invokeFunction('{callback_id}', [], {{}})\n",
        "            e.preventDefault();\n",
        "          }};\n",
        "        </script>\"\"\"\n",
        "    html = template.format(title=self._title, callback_id=callback_id)\n",
        "    return html\n",
        "\n",
        "def RandomGenerator():\n",
        "  return time.strftime(\"%S\") + str(time.time()).split(\".\")[-1]\n",
        "\n",
        "def CheckProcess(process, command):\n",
        "  for pid in psutil.pids():\n",
        "    try:\n",
        "      p = psutil.Process(pid)\n",
        "      if process in p.name():\n",
        "        for arg in p.cmdline():\n",
        "          if command in str(arg):  \n",
        "            return True\n",
        "          else:\n",
        "            pass\n",
        "      else:\n",
        "        pass\n",
        "    except:\n",
        "      continue\n",
        "\n",
        "def AutoSSH(name,port):\n",
        "  get_ipython().system_raw(\"autossh -l \" + name + \" -M 0 -fNT -o 'StrictHostKeyChecking=no' -o 'ServerAliveInterval 300' -o 'ServerAliveCountMax 30' -R 80:localhost:\" + port + \" ssh.localhost.run &\")\n",
        "  get_ipython().system_raw(\"autossh -M 0 -fNT -o 'StrictHostKeyChecking=no' -o 'ServerAliveInterval 300' -o 'ServerAliveCountMax 30' -R \" + name + \":80:localhost:\" + port + \" serveo.net &\")\n",
        "\n",
        "def Start_ServerMT():\n",
        "  if CheckProcess(\"autossh\",Random_NumberMT) != True:\n",
        "      AutoSSH(Random_NumberMT, str(port))\n",
        "\n",
        "try:\n",
        "  if subdomain == \"\":\n",
        "    Random_NumberMT = RandomGenerator()\n",
        "  else:\n",
        "    Random_NumberMT = subdomain\n",
        "  if os.path.isfile(\"/usr/bin/autossh\") == False:\n",
        "    !apt update -qq -y\n",
        "    !apt install autossh -qq -y\n",
        "    clear_output()\n",
        "\n",
        "  Start_ServerMT()\n",
        "  display(SuccessRun)\n",
        "  display(MakeButton(\"Recheck\", Start_ServerMT))\n",
        "  display(HTML(\"<h4 style=\\\"font-family:Trebuchet MS;color:#446785;\\\"><a style=\\\"font-family:Trebuchet MS;color:#356ebf;\\\" href=\\\"https://\" + Random_NumberMT + \".localhost.run\\\" target=\\\"_blank\\\">Website 1</a><br>\" \\\n",
        "               \"<a style=\\\"font-family:Trebuchet MS;color:#356ebf;\\\" href=\\\"https://\" + Random_NumberMT + \".serveo.net\\\" target=\\\"_blank\\\">Website 2 (FAST)</a></h4>\"))\n",
        "except Exception as e:\n",
        "  logging.error(e)\n",
        "  clear_output()\n",
        "  display(UnsuccessfullyRun)"
      ],
      "execution_count": null,
      "outputs": []
    },
    {
      "cell_type": "markdown",
      "metadata": {
        "id": "Lmdc7OFamBAn"
      },
      "source": [
        "# 7 . Cloud torrent\n",
        "**(Provided by Laxudope)**"
      ]
    },
    {
      "cell_type": "code",
      "metadata": {
        "id": "bPZ7ZJ7RmSvC",
        "cellView": "form"
      },
      "source": [
        "#@markdown <h2>⬅️ Click Here to Install Cloud Torrent</h2>\n",
        "import string, os, urllib.request, json, time, getpass; from IPython.display import clear_output\n",
        "\n",
        "if os.path.isfile(\"/usr/local/bin/cloud-torrent\") == False:\n",
        " \t!curl https://i.jpillora.com/cloud-torrent! | bash\n",
        "else:\n",
        "  !pkill cloud-torrent\n",
        "clear_output(wait=True)\n",
        "\n",
        "if os.path.isfile(\"/usr/local/bin/ngrok\") == False:\n",
        "  !wget -q -c -nc https://bin.equinox.io/c/4VmDzA7iaHb/ngrok-stable-linux-amd64.zip\n",
        "  !unzip -qq -n ngrok-stable-linux-amd64.zip\n",
        "  !mv ngrok /usr/local/bin/ngrok\n",
        "  !rm -f /content/ngrok-stable-linux-amd64.zip\n",
        "  clear_output(wait=True)\n",
        "else:\n",
        "  !pkill ngrok\n",
        "\n",
        "if os.path.isfile(\"/usr/bin/rclone\") == False:\n",
        "  get_ipython().system_raw(\"rm -rf /content/sample_data/ && curl -s https://rclone.org/install.sh | sudo bash\")\n",
        "else:\n",
        "  clear_output(wait=True)\n",
        "\n",
        "print(\"Copy authtoken from https://dashboard.ngrok.com/auth\")\n",
        "authtoken = getpass.getpass()\n",
        "get_ipython().system_raw('/usr/local/bin/ngrok authtoken $authtoken && /usr/local/bin/ngrok tcp 4444 &')\n",
        "\n",
        "#Opening cloud-torrent in background\n",
        "!nohup cloud-torrent --port 4444 --title \"Cloud Torrent\" --log  &\n",
        "clear_output()\n",
        "\n",
        "#Get public address and print connect command\n",
        "time.sleep(10)\n",
        "with urllib.request.urlopen('http://localhost:4040/api/tunnels') as response:\n",
        "  data = json.loads(response.read().decode())\n",
        "  (host, port) = data['tunnels'][0]['public_url'][6:].split(':')\n",
        "  print(f'Open this link in new tab http://{host}:{port}')"
      ],
      "execution_count": null,
      "outputs": []
    },
    {
      "cell_type": "markdown",
      "metadata": {
        "id": "8YFON0D4mVdr"
      },
      "source": [
        "# 8 . JDownloader\n",
        "**(Provided by MinorMole and Shix)**"
      ]
    },
    {
      "cell_type": "code",
      "metadata": {
        "id": "eyTydVIrm2Ms",
        "cellView": "form"
      },
      "source": [
        "#@markdown <h2>⬅️ Click Here to Install JDownloader</h2>\n",
        "\n",
        "import os, uuid, re, IPython\n",
        "import ipywidgets as widgets\n",
        "\n",
        "from glob import glob\n",
        "from IPython.display import HTML, clear_output\n",
        "from google.colab import output\n",
        "\n",
        "Email = widgets.Text(placeholder=\"*Required\", description=\"Email:\")\n",
        "Password = widgets.Text(placeholder=\"*Required\", description=\"Password:\")\n",
        "Device = widgets.Text(placeholder=\"Optional\", description=\"Name:\")\n",
        "SavePath = widgets.Dropdown(value=\"/content\", options=[\"/content\", \"/content/Downloads\"], description=\"Save Path:\")\n",
        "\n",
        "class MakeButton(object):\n",
        "  def __init__(self, title, callback, style):\n",
        "    self._title = title\n",
        "    self._callback = callback\n",
        "    self._style = style\n",
        "  def _repr_html_(self):\n",
        "    callback_id = 'button-' + str(uuid.uuid4())\n",
        "    output.register_callback(callback_id, self._callback)\n",
        "    if self._style != \"\":\n",
        "      style_html = \"p-Widget jupyter-widgets jupyter-button widget-button mod-\" + self._style\n",
        "    else:\n",
        "      style_html = \"p-Widget jupyter-widgets jupyter-button widget-button\"\n",
        "    template = \"\"\"<button class=\"{style_html}\" id=\"{callback_id}\">{title}</button>\n",
        "        <script>\n",
        "          document.querySelector(\"#{callback_id}\").onclick = (e) => {{\n",
        "            google.colab.kernel.invokeFunction('{callback_id}', [], {{}})\n",
        "            e.preventDefault();\n",
        "          }};\n",
        "        </script>\"\"\"\n",
        "    html = template.format(title=self._title, callback_id=callback_id, style_html=style_html)\n",
        "    return html\n",
        "  \n",
        "def MakeLabel(description, button_style):\n",
        "  return widgets.Button(description=description, disabled=True, button_style=button_style)\n",
        "\n",
        "def RefreshPath():\n",
        "  if os.path.exists(\"/content/drive/\"):\n",
        "    if os.path.exists(\"/content/drive/Shared drives/\"):\n",
        "      SavePath.options = [\"/content\", \"/content/Downloads\", \"/content/drive/My Drive\"] + glob(\"/content/drive/Shared drives/*\")\n",
        "    else:\n",
        "      SavePath.options = [\"/content\", \"/content/Downloads\", \"/content/drive/My Drive\"]\n",
        "  else:\n",
        "    SavePath.options = [\"/content\", \"/content/Downloads\"]\n",
        "\n",
        "def LoginForm():\n",
        "  clear_output()\n",
        "  Email.value = \"\"\n",
        "  Password.value = \"\"\n",
        "  Device.value = \"\"\n",
        "  RefreshPath()\n",
        "  display(HTML(\"<h3 style=\\\"font-family:Trebuchet MS;color:#4f8bd6;\\\">If you don't have an account yet, please register <a href=\\\"https://my.jdownloader.org/login.html#register\\\" target=\\\"_blank\\\">here</a>.</h3>\"), HTML(\"<br>\"), Email, Password, Device, SavePath)\n",
        "  if not os.path.exists(\"/content/drive/\"):\n",
        "    display(HTML(\"*If you want to save in Google Drive please run the cell below.\"))\n",
        "  display(HTML(\"<br>\"), MakeButton(\"Login\", CheckLogin, \"info\"))\n",
        "  if os.path.isfile(\"/root/.JDownloader/cfg/org.jdownloader.api.myjdownloader.MyJDownloaderSettings.json\"):\n",
        "    display(MakeButton(\"Cancel\", Show, \"danger\"))\n",
        "  \n",
        "def RestartForm():\n",
        "  clear_output()\n",
        "  display(MakeLabel(\"Restart Confirm?\", \"\"), MakeButton(\"Confirm\", Restart, \"danger\"), MakeButton(\"Cancel\", Show, \"warning\"))\n",
        "  \n",
        "def ExitForm():\n",
        "  clear_output()\n",
        "  display(MakeLabel(\"Exit Confirm?\", \"\"), MakeButton(\"Confirm\", Exit, \"danger\"), MakeButton(\"Cancel\", Show, \"warning\"))\n",
        "\n",
        "def CheckLogin():\n",
        "  try:\n",
        "    if not Email.value.strip():\n",
        "      ERROR = \"Email field is empty.\"\n",
        "      THROW_ERROR\n",
        "    if not \"@\" in Email.value and not \".\" in Email.value:\n",
        "      ERROR = \"Email is an incorrect format.\"\n",
        "      THROW_ERROR\n",
        "    if not Password.value.strip():\n",
        "      ERROR = \"Password field is empty.\"\n",
        "      THROW_ERROR\n",
        "    if not bool(re.match(\"^[a-zA-Z0-9]+$\", Device.value)) and Device.value.strip():\n",
        "      ERROR = \"Only alphanumeric are allowed for the device name.\"\n",
        "      THROW_ERROR\n",
        "    Login()\n",
        "  except:\n",
        "    print(ERROR)\n",
        "\n",
        "def Login():\n",
        "  clear_output()\n",
        "  if SavePath.value == \"/content\":\n",
        "    get_ipython().system_raw(\"echo '{\\\"defaultdownloadfolder\\\" : \\\"/content\\\"}' > /root/.JDownloader/cfg/org.jdownloader.settings.GeneralSettings.json\")\n",
        "  elif SavePath.value == \"/content/Downloads\":\n",
        "    get_ipython().system_raw(\"mkdir -p -m 666 /content/Downloads\")\n",
        "    get_ipython().system_raw(\"echo '{\\\"defaultdownloadfolder\\\" : \\\"/content/Downloads\\\"}' > /root/.JDownloader/cfg/org.jdownloader.settings.GeneralSettings.json\")\n",
        "  else:\n",
        "    get_ipython().system_raw(\"echo '{\\\"defaultdownloadfolder\\\" : \\\"\" + SavePath.value + \"\\\"}' > /root/.JDownloader/cfg/org.jdownloader.settings.GeneralSettings.json\")\n",
        "  if Device.value.strip() == \"\":\n",
        "    Device.value = Email.value\n",
        "  get_ipython().system_raw(\"pkill -9 -e -f java\")\n",
        "  get_ipython().system_raw(\"echo '{\\\"email\\\" : \\\"'\" + Email.value + \"'\\\", \\\"password\\\" : \\\"'\" + Password.value + \"'\\\", \\\"devicename\\\" : \\\"'\" + Device.value + \"'\\\", \\\"directconnectmode\\\" : \\\"LAN\\\"}' > /root/.JDownloader/cfg/org.jdownloader.api.myjdownloader.MyJDownloaderSettings.json\")\n",
        "  get_ipython().system_raw(\"java -jar /root/.JDownloader/JDownloader.jar -norestart -noerr -r &\")\n",
        "  Show()\n",
        "\n",
        "def Restart():\n",
        "  get_ipython().system_raw(\"pkill -9 -e -f java\")\n",
        "  get_ipython().system_raw(\"java -jar /root/.JDownloader/JDownloader.jar -norestart -noerr -r &\")\n",
        "  Show()\n",
        "  \n",
        "def Exit():\n",
        "  get_ipython().system_raw(\"pkill -9 -e -f java\")\n",
        "  clear_output()\n",
        "  display(MakeButton(\"Start\", Restart, \"info\"))\n",
        "  \n",
        "def Show():\n",
        "  clear_output()\n",
        "  display(MakeLabel(\"Control Panel\", \"\"), HTML(\"<h3 style=\\\"font-family:Trebuchet MS;color:#4f8bd6;\\\">You can login to the WebUI by clicking <a href=\\\"https://my.jdownloader.org/\\\" target=\\\"_blank\\\">here</a>.</h3>\"), HTML(\"<h4 style=\\\"font-family:Trebuchet MS;color:#4f8bd6;\\\">If the server didn't showup in 30 sec. please re-login.</h4>\"), HTML(\"<br>\"), MakeButton(\"Re-Login\", LoginForm, \"info\"), MakeButton(\"Restart\", RestartForm, \"warning\"), MakeButton(\"Exit\", ExitForm, \"danger\"))\n",
        "  \n",
        "    \n",
        "if not os.path.isfile(\"/root/.JDownloader/JDownloader.jar\"):\n",
        "  clear_output()\n",
        "  display(MakeLabel(\"Installing in Progress\", \"warning\"))\n",
        "  get_ipython().system_raw(\"rm -rf /content/sample_data/ && apt install openjdk-8-jre-headless -qq -y && mkdir -p -m 666 /root/.JDownloader && wget -q http://installer.jdownloader.org/JDownloader.jar -O /root/.JDownloader/JDownloader.jar && java -jar /root/.JDownloader/JDownloader.jar -norestart -h\")\n",
        "  LoginForm()\n",
        "elif not os.path.isfile(\"/root/.JDownloader/cfg/org.jdownloader.api.myjdownloader.MyJDownloaderSettings.json\"):\n",
        "  LoginForm()\n",
        "else:  \n",
        "  Show()"
      ],
      "execution_count": null,
      "outputs": []
    },
    {
      "cell_type": "markdown",
      "metadata": {
        "id": "_hYxAJhHm52d"
      },
      "source": [
        "# 9 . Youtbe DL\n",
        "**(Provided by MinorMole and Shix)**"
      ]
    },
    {
      "cell_type": "code",
      "metadata": {
        "id": "dCK-puiMnHYj",
        "cellView": "form"
      },
      "source": [
        "#@markdown <h2>⬅️ Click Here to Use YouTube-DL (Beta)</h2>\n",
        "\n",
        "import os, uuid, urllib.parse\n",
        "import ipywidgets as widgets\n",
        "\n",
        "from glob import glob\n",
        "from urllib.parse import urlparse, parse_qs\n",
        "from IPython.display import HTML, clear_output, YouTubeVideo\n",
        "from google.colab import output\n",
        "\n",
        "Links = widgets.Textarea(placeholder='''Video/Playlist Link\n",
        "(one line per link)''')\n",
        "\n",
        "VideoQ = widgets.Dropdown(options=[\"Best Quality (VP9 upto 4K)\", \"Best Compatibility (H.264 upto 1080p)\"], description=\"Video:\")\n",
        "\n",
        "AudioQ = widgets.Dropdown(options=[\"Best Quality (Opus)\", \"Best Compatibility (M4A)\"], description=\"Audio:\")\n",
        "\n",
        "Subtitle = widgets.Dropdown(options=[\"Enable\", \"Disable\"], description=\"Subtitle:\")\n",
        "\n",
        "SavePathYT = widgets.Dropdown(options=[\"/content\", \"/content/Downloads\"], description=\"Save Path:\")\n",
        "\n",
        "class MakeButton(object):\n",
        "  def __init__(self, title, callback, style):\n",
        "    self._title = title\n",
        "    self._callback = callback\n",
        "    self._style = style\n",
        "  def _repr_html_(self):\n",
        "    callback_id = 'button-' + str(uuid.uuid4())\n",
        "    output.register_callback(callback_id, self._callback)\n",
        "    if self._style != \"\":\n",
        "      style_html = \"p-Widget jupyter-widgets jupyter-button widget-button mod-\" + self._style\n",
        "    else:\n",
        "      style_html = \"p-Widget jupyter-widgets jupyter-button widget-button\"\n",
        "    template = \"\"\"<button class=\"{style_html}\" id=\"{callback_id}\">{title}</button>\n",
        "        <script>\n",
        "          document.querySelector(\"#{callback_id}\").onclick = (e) => {{\n",
        "            google.colab.kernel.invokeFunction('{callback_id}', [], {{}})\n",
        "            e.preventDefault();\n",
        "          }};\n",
        "        </script>\"\"\"\n",
        "    html = template.format(title=self._title, callback_id=callback_id, style_html=style_html)\n",
        "    return html\n",
        "  \n",
        "def MakeLabel(description, button_style):\n",
        "  return widgets.Button(description=description, disabled=True, button_style=button_style)\n",
        "\n",
        "def youtube_id(value):\n",
        "    query = urlparse(value)\n",
        "    if query.hostname == 'youtu.be':\n",
        "        return query.path[1:]\n",
        "    if query.hostname in ('www.youtube.com', 'youtube.com'):\n",
        "        if query.path == '/watch':\n",
        "            p = parse_qs(query.query)\n",
        "            return p['v'][0]\n",
        "        if query.path[:7] == '/embed/':\n",
        "            return query.path.split('/')[2]\n",
        "        if query.path[:3] == '/v/':\n",
        "            return query.path.split('/')[2]\n",
        "    return None\n",
        "\n",
        "def RefreshPathYT():\n",
        "  if os.path.exists(\"/content/drive/\"):\n",
        "    if os.path.exists(\"/content/drive/Shared drives/\"):\n",
        "      SavePathYT.options = [\"/content\", \"/content/Downloads\", \"/content/drive/My Drive\"] + glob(\"/content/drive/Shared drives/*\")\n",
        "    else:\n",
        "      SavePathYT.options = [\"/content\", \"/content/Downloads\", \"/content/drive/My Drive\"]\n",
        "  else:\n",
        "    SavePathYT.options = [\"/content\", \"/content/Downloads\"]\n",
        "\n",
        "def ShowYT():\n",
        "  clear_output()\n",
        "  RefreshPathYT()\n",
        "  display(Links, VideoQ, AudioQ, Subtitle, SavePathYT)\n",
        "  if not os.path.exists(\"/content/drive/\"):\n",
        "    display(HTML(\"*If you want to save in Google Drive please run the cell below.\"))\n",
        "  display(HTML(\"<br>\"), MakeButton(\"Download\", DownloadYT, \"info\"))\n",
        "\n",
        "def DownloadYT():\n",
        "  if Links.value.strip():\n",
        "    # Video\n",
        "    if VideoQ.value == \"Best Quality (VP9 upto 4K)\":\n",
        "      os.environ[\"videoqC\"] = \"webm\"\n",
        "    else:\n",
        "      os.environ[\"videoqC\"] = \"mp4\"\n",
        "    # Audio\n",
        "    if AudioQ.value == \"Best Quality (Opus)\":\n",
        "      os.environ[\"audioqC\"] = \"webm\"\n",
        "    else:\n",
        "      os.environ[\"audioqC\"] = \"m4a\"\n",
        "    # Subtitle\n",
        "    if Subtitle.value == \"Enable\":\n",
        "      os.environ[\"subtitleC\"] = \"--all-subs --convert-subs ass --embed-subs\"\n",
        "    else:\n",
        "      os.environ[\"subtitleC\"] = \"\"\n",
        "    # Compatibility Extension\n",
        "    if Subtitle.value == \"Disable\" and AudioQ.value == \"Best Compatibility (M4A)\":\n",
        "      os.environ[\"extC\"] = \"mp4\"\n",
        "      os.environ[\"thumbnailC\"] = \"--embed-thumbnail\"\n",
        "    else:\n",
        "      os.environ[\"extC\"] = \"mkv\"\n",
        "      os.environ[\"thumbnailC\"] = \"\"\n",
        "    for Link in Links.value.splitlines():\n",
        "      clear_output()\n",
        "      if youtube_id(Link) != None:\n",
        "        display(HTML(\"<h3 style=\\\"font-family:Trebuchet MS;color:#4f8bd6;\\\">Video currently downloading...</h3><br>\"), YouTubeVideo(youtube_id(Link), width=640, height=360), HTML(\"<br>\"))\n",
        "      else:\n",
        "        display(HTML(\"<h3 style=\\\"font-family:Trebuchet MS;color:#4f8bd6;\\\">Currently downloading \" + Link + \"</h3><br>\"))\n",
        "      os.environ[\"Link\"] = Link\n",
        "      !youtube-dl -i --no-warnings --geo-bypass --yes-playlist --add-metadata --merge-output-format $extC $thumbnailC $subtitleC -f \"bestvideo[ext=$videoqC]+bestaudio[ext=$audioqC]/bestvideo+bestaudio\" -o \"/root/.YouTube-DL/%(title)s.%(ext)s\" \"$Link\"\n",
        "      if not os.path.exists(SavePathYT.value):\n",
        "        get_ipython().system_raw(\"mkdir -p -m 666 \" + SavePathYT.value)\n",
        "      get_ipython().system_raw(\"mv /root/.YouTube-DL/* '\" + SavePathYT.value + \"/'\")\n",
        "    ShowYT()\n",
        "\n",
        "if not os.path.isfile(\"/usr/local/bin/youtube-dl\"):\n",
        "  get_ipython().system_raw(\"rm -rf /content/sample_data/ && mkdir -p -m 666 /root/.YouTube-DL/ && apt-get install atomicparsley && curl -L https://yt-dl.org/downloads/latest/youtube-dl -o /usr/local/bin/youtube-dl && chmod a+rx /usr/local/bin/youtube-dl\")\n",
        "ShowYT()"
      ],
      "execution_count": null,
      "outputs": []
    },
    {
      "cell_type": "markdown",
      "metadata": {
        "id": "BXG8HyU3nwIu"
      },
      "source": [
        "# 10 (A). Download DDLs (using WGET)\n",
        "**(File will be downloaded to Root Directory)**\n",
        "\n",
        "**(Last modified by Sarah)**"
      ]
    },
    {
      "cell_type": "code",
      "metadata": {
        "id": "DTGwEcLrn5gI",
        "cellView": "form"
      },
      "source": [
        "#@title ⬅️ Run This Cell to Download from DDLs\n",
        "Link = \"\" #@param {type:\"string\"}\n",
        "\n",
        "!wget \"$Link\""
      ],
      "execution_count": null,
      "outputs": []
    },
    {
      "cell_type": "markdown",
      "metadata": {
        "id": "6VtdAFQkJPM0"
      },
      "source": [
        "# 10 (B). Download DDLs with same tree structure (using WGET)\n",
        "\n",
        "**(Last modified by Sarah)**"
      ]
    },
    {
      "cell_type": "code",
      "metadata": {
        "id": "d-9TAxF0JUYX",
        "cellView": "form"
      },
      "source": [
        "#@title ⬅️ Run This Cell to Download from DDLs\n",
        "Link = \"\" #@param {type:\"string\"}\n",
        "\n",
        "!wget \"$Link\" -p"
      ],
      "execution_count": null,
      "outputs": []
    },
    {
      "cell_type": "markdown",
      "metadata": {
        "id": "u74H4AaJZTUT"
      },
      "source": [
        "# 10 (C). Download DDLs to Specified Destination folder(using WGET)\n",
        "\n",
        "**(Last modified by Sarah)**"
      ]
    },
    {
      "cell_type": "code",
      "metadata": {
        "id": "kLOvu9UNZoWR",
        "cellView": "form"
      },
      "source": [
        "#@title ⬅️ Run This Cell to Download from DDLs to Specified Destination folder\n",
        "Link = \"\" #@param {type:\"string\"}\n",
        "dest = \"\" #@param {type:\"string\"}\n",
        "\n",
        "!wget \"$Link\" -P\"$dest\""
      ],
      "execution_count": null,
      "outputs": []
    },
    {
      "cell_type": "markdown",
      "metadata": {
        "id": "YZaIlL-X_-Xv"
      },
      "source": [
        "# 10 (D). Download from Open Directories\n",
        "\n",
        "---\n",
        "\n",
        "\n",
        "\n",
        "**(Note: Some OD's don't work well with wget2)**\n",
        "\n",
        "---\n",
        "\n",
        "**(Provided by Accorsi)**\n"
      ]
    },
    {
      "cell_type": "markdown",
      "metadata": {
        "id": "jhh1Y6-I49-u"
      },
      "source": [
        "<img src='https://i.ibb.co/LCJkHXd/wget.png' height=\"65\" alt=\"Wget\"/>"
      ]
    },
    {
      "cell_type": "code",
      "metadata": {
        "id": "FEGULldc49Qa",
        "cellView": "form"
      },
      "source": [
        "#@markdown <h3>⬅️ Click Here to Install Wget and Wget2</h3>\n",
        "from IPython.display import clear_output\n",
        "!sudo apt-get install wget\n",
        "!sudo apt-get install wget2\n",
        "clear_output()"
      ],
      "execution_count": null,
      "outputs": []
    },
    {
      "cell_type": "code",
      "metadata": {
        "id": "q3iJqxWu5Dna",
        "cellView": "form"
      },
      "source": [
        "#@markdown <h3>⬅️ Click Here to Mirror the Open Directory to your GDrive</h3>\n",
        "#@markdown <h4>✅ The RcloneLab method is recommended and always the safest. (Using RcloneLab you can't resume your download)</h4>\n",
        "import os\n",
        "\n",
        "program = \"Wget2\" #@param [\"Wget\", \"Wget2\"]\n",
        "open_directory = \"http://beet.the-eye.eu/alvro/Panasonic/3DO/\" #@param {type:\"string\"}\n",
        "destination_folder = \"/content/drive/My Drive/theeye/\" #@param {type:\"string\"}\n",
        "threads = \"1\" #@param {type:\"string\"}\n",
        "\n",
        "\n",
        "os.environ[\"dirC\"] = open_directory\n",
        "os.environ[\"destinationC\"] = destination_folder\n",
        "os.environ[\"threadsC\"] = threads\n",
        "\n",
        "if program == \"Wget\":\n",
        "  !wget -P \"$destinationC\" -m -np -c -R \"index.html*\" \"$dirC\"\n",
        "elif program == \"Wget2\":\n",
        "  !wget2 -P \"$destinationC\" -c -m -nH -np -r --max-threads \"$threadsC\" --reject=\"*.htm*,*.lnk,index.html*\" --robots=off \"$dirC\""
      ],
      "execution_count": null,
      "outputs": []
    },
    {
      "cell_type": "markdown",
      "metadata": {
        "id": "BK8roqCq5RNt"
      },
      "source": [
        "<img src='https://i.ibb.co/L854Bzr/odd1.png' height=\"65\" alt=\"ODD\"/>\n",
        "\n",
        "**With this you can see the size and what files are in the OD**"
      ]
    },
    {
      "cell_type": "code",
      "metadata": {
        "id": "jhpMamK-5U7_",
        "cellView": "form"
      },
      "source": [
        "#@markdown <h3>⬅️ Click Here to install Open Directory Downloader</h3>\n",
        "\n",
        "##Installs .NET Core on colab\n",
        "!wget -P \"/content/\" \"https://download.visualstudio.microsoft.com/download/pr/c624c5d6-0e9c-4dd9-9506-6b197ef44dc8/ad61b332f3abcc7dec3a49434e4766e1/dotnet-sdk-3.0.100-preview7-012821-linux-x64.tar.gz\"\n",
        "!mkdir -p dotnet && tar zxf dotnet-sdk-3.0.100-preview7-012821-linux-x64.tar.gz -C dotnet\n",
        "!export DOTNET_ROOT=dotnet\n",
        "!export PATH=$PATH:dotnet\n",
        "\n",
        "##Installs Open Directory Downloader on colab\n",
        "!git clone https://github.com/KoalaBear84/OpenDirectoryDownloader\n",
        "!cd /content/OpenDirectoryDownloader/OpenDirectoryDownloader\n",
        "!/content/dotnet/dotnet build /content/OpenDirectoryDownloader/OpenDirectoryDownloader.sln\n",
        "!cd /content/OpenDirectoryDownloader/OpenDirectoryDownloader/bin/Debug/netcoreapp3.0"
      ],
      "execution_count": null,
      "outputs": []
    },
    {
      "cell_type": "code",
      "metadata": {
        "id": "29r9JfbP5XsB",
        "cellView": "form",
        "outputId": "ed41c92e-329b-4e61-ddda-9bd3cf137564",
        "colab": {
          "base_uri": "https://localhost:8080/",
          "height": 995
        }
      },
      "source": [
        "#@markdown <h3>⬅️ Click Here if you want to Index an Open Directory</h3>\n",
        "import os\n",
        "URL = \"http://103.91.144.230/ftpdata/Movies/Hollywood/2019/\" #@param {type:\"string\"}\n",
        "threads = \"5\" #@param {type:\"string\"}\n",
        "\n",
        "os.environ[\"urlC\"] = URL\n",
        "os.environ[\"threadsC\"] = threads\n",
        "\n",
        "!/content/dotnet/dotnet \"/content/OpenDirectoryDownloader/OpenDirectoryDownloader/bin/Debug/netcoreapp3.0/OpenDirectoryDownloader.dll\" --url \"$urlC\" --threads\t\"$threadsC\" --quit"
      ],
      "execution_count": null,
      "outputs": [
        {
          "output_type": "stream",
          "text": [
            "\u001b]0;OpenDirectoryDownloader\u0007Started\n",
            "URL specified: http://103.91.144.230/ftpdata/Movies/Hollywood/2019/\n",
            "URL fixed: http://103.91.144.230/ftpdata/Movies/Hollywood/2019/\n",
            "\u001b]0;103.91.144.230 - OpenDirectoryDownloader\u0007Started indexing!\n",
            "****************************************************************************\n",
            "****************************************************************************\n",
            "***  Press I for info (this)                                             ***\n",
            "***  Press S for statistics                                              ***\n",
            "***  Press T for thread info                                             ***\n",
            "***  Press J for Save JSON                                               ***\n",
            "***                                                                      ***\n",
            "***  Press ESC to EXIT                                                   ***\n",
            "****************************************************************************\n",
            "****************************************************************************\n",
            "\u001b[?1h\u001b=\u001b[m\u001b[33m2019-10-07 06:42:54.3646  [4]  WARN OpenDirectoryIndexer.TimerStatistics_Elapsed Http status codes\u001b[m\u001b[m\n",
            "\u001b[m\u001b[33m200: 184\u001b[m\u001b[m\n",
            "\u001b[m\u001b[33mTotal files: 226, Total estimated size: 383.42 GiB\u001b[m\u001b[m\n",
            "\u001b[m\u001b[33mTotal directories: 184\u001b[m\u001b[m\n",
            "\u001b[m\u001b[33mTotal HTTP requests: 189, Total HTTP traffic: 141.01 kiB\u001b[m\u001b[m\n",
            "\u001b[m\u001b[33m|**Url:** [http://103.91.144.230/ftpdata/Movies/Hol...](http://103.91.144.230/ftpdata/Movies/Hollywood/2019/)|||\u001b[m\u001b[m\n",
            "\u001b[m\u001b[33m|:-|-:|-:|\u001b[m\u001b[m\n",
            "\u001b[m\u001b[33m|**Date:** 2019-10-07 06:42:24|**Time:** 00:00:30||\u001b[m\u001b[m\n",
            "\u001b[m\u001b[33m \n",
            "\u001b[m\u001b[m\u001b[m\u001b[33m2019-10-07 06:42:54.3723  [4]  WARN OpenDirectoryIndexer.TimerStatistics_Elapsed Queue: 275, Queue (filesizes): 0 \n",
            "\u001b[m\u001b[m\u001b[33m2019-10-07 06:43:24.3538 [10]  WARN OpenDirectoryIndexer.TimerStatistics_Elapsed Http status codes\u001b[m\u001b[m\n",
            "\u001b[m\u001b[33m200: 408\u001b[m\u001b[m\n",
            "\u001b[m\u001b[33mTotal files: 496, Total estimated size: 807.4 GiB\u001b[m\u001b[m\n",
            "\u001b[m\u001b[33mTotal directories: 408\u001b[m\u001b[m\n",
            "\u001b[m\u001b[33mTotal HTTP requests: 413, Total HTTP traffic: 239.46 kiB\u001b[m\u001b[m\n",
            "\u001b[m\u001b[33m|**Url:** [http://103.91.144.230/ftpdata/Movies/Hol...](http://103.91.144.230/ftpdata/Movies/Hollywood/2019/)|||\u001b[m\u001b[m\n",
            "\u001b[m\u001b[33m|:-|-:|-:|\u001b[m\u001b[m\n",
            "\u001b[m\u001b[33m|**Date:** 2019-10-07 06:42:24|**Time:** 00:01:00||\u001b[m\u001b[m\n",
            "\u001b[m\u001b[33m \n",
            "\u001b[m\u001b[m\u001b[m\u001b[33m2019-10-07 06:43:24.3555 [10]  WARN OpenDirectoryIndexer.TimerStatistics_Elapsed Queue: 61, Queue (filesizes): 0 \n",
            "\u001b[mFinshed indexing\n",
            "Saving URL list to file...\n",
            "Saved URL list to file: http:__103.91.144.230_ftpdata_Movies_Hollywood_2019_.txt\n",
            "Http status codes\n",
            "200: 476\n",
            "Total files: 577, Total estimated size: .92 TiB\n",
            "Total directories: 476\n",
            "Total HTTP requests: 476, Total HTTP traffic: 270.29 kiB\n",
            "|**Url:** [http://103.91.144.230/ftpdata/Movies/Hol...](http://103.91.144.230/ftpdata/Movies/Hollywood/2019/)|||\n",
            "|:-|-:|-:|\n",
            "|**Extension (Top 5)**|**Files**|**Size**|\n",
            "|.mkv|317|709.13 GiB|\n",
            "|.mp4|129|199.58 GiB|\n",
            "|.avi|19|22.4 GiB|\n",
            "|.part|5|6.64 GiB|\n",
            "||1|1.68 GiB|\n",
            "|**Dirs:** 476 **Ext:** 11|**Total:** 577|**Total:** .92 TiB|\n",
            "|**Date:** 2019-10-07 06:42:24|**Time:** 00:01:08||\n",
            "\n",
            "Finished indexing!\n",
            "\u001b]0;✔ 103.91.144.230 - OpenDirectoryDownloader\u0007Exiting...\n"
          ],
          "name": "stdout"
        }
      ]
    },
    {
      "cell_type": "markdown",
      "metadata": {
        "id": "9yoM3JwNJlhZ"
      },
      "source": [
        "# 11 (A). Copying files and folders (using !cp)\n",
        "**(Last modified by Sarah)**"
      ]
    },
    {
      "cell_type": "code",
      "metadata": {
        "id": "nKtI7S65Jpdr",
        "cellView": "form"
      },
      "source": [
        "#@title ⬅️ Run This Cell to COPY \"A single file\" or \"whole Source folder\" to destination folder\n",
        "src = \"\" #@param {type:\"string\"}\n",
        "dest = \"\" #@param {type:\"string\"}\n",
        "\n",
        "!cp -r \"$src\" \"$dest\""
      ],
      "execution_count": null,
      "outputs": []
    },
    {
      "cell_type": "markdown",
      "metadata": {
        "id": "__mhICQGWeTl"
      },
      "source": [
        "# 11 (B). Another way of copying files and folders (using !rclone) (without rclone config)\n",
        "\n",
        "---\n",
        "\n",
        "\n",
        "**(If using for the 1st time after a runtime, you need to run the cell twice, otherwise you will face an error \"command not found\")**\n",
        "\n",
        "---\n",
        "\n",
        "\n",
        "\n",
        "**(Provided by Laxudope)**"
      ]
    },
    {
      "cell_type": "code",
      "metadata": {
        "id": "aUwTQ4qpWbE_",
        "cellView": "form",
        "outputId": "8f3b5136-769e-4b3e-c660-16b486178a8b",
        "colab": {
          "base_uri": "https://localhost:8080/",
          "height": 35
        }
      },
      "source": [
        "#@title ⬅️ Run This Cell to COPY Files to destination folder\n",
        "src = \"\" #@param {type:\"string\"}\n",
        "dest = \"\" #@param {type:\"string\"}\n",
        "import os; from IPython.display import clear_output\n",
        "\n",
        "  \n",
        "if os.path.isfile(\"/usr/bin/rclone\") == False:\n",
        "    get_ipython().system_raw('curl https://rclone.org/install.sh | sudo bash &')\n",
        "    print(\"Rclone successfully installed\")\n",
        "    clear_output(wait=True)\n",
        "    \n",
        "else:\n",
        "    print(\"Rclone already installed. Skipping installation...\")\n",
        "    clear_output(wait=True)\n",
        "!rclone copy \"$src\" \"$dest\" -v --stats-one-line --stats=5s\n",
        "clear_output(wait=True)\n",
        "print(\"Task finished\")"
      ],
      "execution_count": null,
      "outputs": [
        {
          "output_type": "stream",
          "text": [
            "Task finished\n"
          ],
          "name": "stdout"
        }
      ]
    },
    {
      "cell_type": "markdown",
      "metadata": {
        "id": "5Yl9WRu1JwQP"
      },
      "source": [
        "# 12 (A). Moving files and folders (using !MV)\n",
        "**(Last modified by Sarah)**"
      ]
    },
    {
      "cell_type": "code",
      "metadata": {
        "id": "qkdcSETkJ0z2",
        "cellView": "form"
      },
      "source": [
        "#@title ⬅️ Run This Cell to MOVE \"A single file\" or \"whole Source folder\" to destination folder\n",
        "src = \"\" #@param {type:\"string\"}\n",
        "dest = \"\" #@param {type:\"string\"}\n",
        "\n",
        "!mv \"$src\" \"$dest\""
      ],
      "execution_count": null,
      "outputs": []
    },
    {
      "cell_type": "markdown",
      "metadata": {
        "id": "9Bie4c4MWtn9"
      },
      "source": [
        "# 12 (B). Another way of moving files and folders (using !rclone) (without rclone config)\n",
        "\n",
        "---\n",
        "\n",
        "\n",
        "**(If using for the 1st time after a runtime, you need to run the cell twice, otherwise you will face an error \"command not found\")**\n",
        "\n",
        "---\n",
        "\n",
        "\n",
        "\n",
        "\n",
        "\n",
        "**(Provided by Laxudope)**"
      ]
    },
    {
      "cell_type": "code",
      "metadata": {
        "id": "nvqt75dfW09U",
        "cellView": "form"
      },
      "source": [
        "#@title ⬅️ Run This Cell to move Files to destination folder\n",
        "src = \"\" #@param {type:\"string\"}\n",
        "dest = \"\" #@param {type:\"string\"}\n",
        "import os; from IPython.display import clear_output\n",
        "\n",
        "  \n",
        "if os.path.isfile(\"/usr/bin/rclone\") == False:\n",
        "    get_ipython().system_raw('curl https://rclone.org/install.sh | sudo bash &')\n",
        "    print(\"Rclone successfully installed\")\n",
        "    clear_output(wait=True)\n",
        "    \n",
        "else:\n",
        "    print(\"Rclone already installed. Skipping installation...\")\n",
        "    clear_output(wait=True)\n",
        "!rclone move \"$src\" \"$dest\" -v --stats-one-line --stats=5s  --delete-empty-src-dirs\n",
        "clear_output(wait=True)\n",
        "print(\"Task finished\")"
      ],
      "execution_count": null,
      "outputs": []
    },
    {
      "cell_type": "markdown",
      "metadata": {
        "id": "rpRpH_DCJ30a"
      },
      "source": [
        "# 13 . Rclone\n",
        "\n",
        "**(Provided by MinorMole and Shix)**"
      ]
    },
    {
      "cell_type": "code",
      "metadata": {
        "id": "_RezFPjUJ9Yq",
        "cellView": "form"
      },
      "source": [
        "#@markdown <h2>⬅️ Click Here Before Using RcloneLab</h2>\n",
        "#@markdown <h4>📝 Note: if you want to change the config file just this cell again.</h4>\n",
        "Setup_Time_Zone = False #@param {type:\"boolean\"}\n",
        "\n",
        "import os; from google.colab import files; from IPython.display import HTML, clear_output\n",
        "\n",
        "def upload_conf():\n",
        "  try:\n",
        "    display(HTML(\"<h2 style=\\\"font-family:Trebuchet MS;color:#4f8bd6;\\\">Please upload the config file of rclone (rclone.conf) from your computer.</h2><br>\"))\n",
        "    UploadConfig = files.upload().keys()\n",
        "    clear_output()\n",
        "    if len(UploadConfig) == 0:\n",
        "      return display(HTML(\"<center><h2 style=\\\"font-family:Trebuchet MS;color:#ce2121;\\\">File upload has been cancelled during upload file.</h2><br></center>\"))\n",
        "    elif len(UploadConfig) == 1:\n",
        "      for fn in UploadConfig:\n",
        "        if os.path.isfile(\"/content/\" + fn) == True:\n",
        "          get_ipython().system_raw(\"mv -f \" + \"\\\"\" + fn + \"\\\" /root/.rclone.conf && chmod 666 /root/.rclone.conf\")\n",
        "          if Setup_Time_Zone == True:\n",
        "            !sudo dpkg-reconfigure tzdata\n",
        "            clear_output()\n",
        "          if os.path.isfile(\"/usr/bin/rclone\") == True:\n",
        "            return display(HTML(\"<center><h2 style=\\\"font-family:Trebuchet MS;color:#00b24c;\\\">Config has been changed.</h2><br></center>\"))\n",
        "          else:\n",
        "            get_ipython().system_raw(\"rm -rf /content/sample_data/ && curl -s https://rclone.org/install.sh | sudo bash\")\n",
        "            return display(HTML(\"<center><h2 style=\\\"font-family:Trebuchet MS;color:#4f8bd6;\\\">Installation has been successfully completed.</h2><br></center>\"))\n",
        "        else:\n",
        "          return display(HTML(\"<center><h2 style=\\\"font-family:Trebuchet MS;color:#ce2121;\\\">File upload has been failed during upload file.</h2><br></center>\"))\n",
        "    else:\n",
        "      for fn in UploadConfig:\n",
        "        get_ipython().system_raw(\"rm -f \" + \"\\\"\" + fn + \"\\\"\")\n",
        "      return display(HTML(\"<center><h2 style=\\\"font-family:Trebuchet MS;color:#ce2121;\\\">Please uploading only one file at a time.</h2><br></center>\"))\n",
        "  except:\n",
        "    clear_output()\n",
        "    return display(HTML(\"<center><h2 style=\\\"font-family:Trebuchet MS;color:#ce2121;\\\">Error occurred during upload file.</h2><br></center>\"))\n",
        "\n",
        "upload_conf()"
      ],
      "execution_count": null,
      "outputs": []
    },
    {
      "cell_type": "code",
      "metadata": {
        "id": "ZmnzgenqKAsT",
        "cellView": "form"
      },
      "source": [
        "#@markdown <h3>⬅️ Run This Cell to Use RcloneLab</h3>\n",
        "# ============================= FORM ============================= #\n",
        "Mode = \"Move\" #@param [\"Config\", \"Copy\", \"Move\", \"Sync\", \"Checker\", \"Deduplicate\", \"Remove Empty Directories\", \"Empty Trash\", \"qBittorrent\"]\n",
        "Compare = \"Size & Mod-Time\" #@param [\"Size & Mod-Time\", \"Size & Checksum\", \"Only Mod-Time\", \"Only Size\", \"Only Checksum\"]\n",
        "Source = \"\" #@param {type:\"string\"}\n",
        "Destination = \"\" #@param {type:\"string\"}\n",
        "Transfers = 7 #@param {type:\"slider\", min:1, max:20, step:1}\n",
        "Checkers = 20 #@param {type:\"slider\", min:1, max:20, step:1}\n",
        "#@markdown ---\n",
        "\n",
        "#@markdown <center><h3><font color=\"#3399ff\"><b>⚙️ Global Configuration ⚙️</b></font></h3></center>\n",
        "Simple_Ouput = True #@param {type:\"boolean\"}\n",
        "Skip_files_that_are_newer_on_the_destination = False #@param {type:\"boolean\"}\n",
        "Skip_all_files_that_exist = False #@param {type:\"boolean\"}\n",
        "Do_not_cross_filesystem_boundaries = False\n",
        "Do_not_update_modtime_if_files_are_identical = False #@param {type:\"boolean\"}\n",
        "Large_amount_of_files_optimization = False\n",
        "Google_Drive_optimization = False #@param {type:\"boolean\"}\n",
        "Dry_Run = False #@param {type:\"boolean\"}\n",
        "Output_Log_File = \"OFF\" #@param [\"OFF\", \"NOTICE\", \"INFO\", \"ERROR\", \"DEBUG\"]\n",
        "Extra_Arguments = \"\" #@param {type:\"string\"}\n",
        "\n",
        "#@markdown <center><h3><font color=\"#3399ff\"><b>↪️ Sync Configuration ↩️</b></font></h3></center>\n",
        "Sync_Mode = \"Delete during transfer\" #@param [\"Delete during transfer\", \"Delete before transfering\", \"Delete after transfering\"]\n",
        "Track_Renames = False #@param {type:\"boolean\"}\n",
        "\n",
        "#@markdown <center><h3><font color=\"#3399ff\"><b>💞 Deduplicate Configuration 💞</b></font></h3></center>\n",
        "Deduplicate_Mode = \"Interactive\" #@param [\"Interactive\", \"Skip\", \"First\", \"Newest\", \"Oldest\", \"Largest\", \"Rename\"]\n",
        "Deduplicate_Use_Trash = True #@param {type:\"boolean\"}\n",
        "# ================================================================ #\n",
        "\n",
        "import os; from IPython.display import HTML, clear_output\n",
        "\n",
        "### Variable Declaration\n",
        "\n",
        "# Optimized for Google Colaboratory\n",
        "if Google_Drive_optimization == True:\n",
        "  os.environ[\"bufferC\"] = \"--buffer-size 64M\"\n",
        "else:\n",
        "  os.environ[\"bufferC\"] = \"--buffer-size 96M\"\n",
        "\n",
        "if Compare == \"Size & Checksum\":\n",
        "  os.environ[\"compareC\"] = \"-c\"\n",
        "elif Compare == \"Only Mod-Time\":\n",
        "  os.environ[\"compareC\"] = \"--ignore-size\"\n",
        "elif Compare == \"Only Size\":\n",
        "  os.environ[\"compareC\"] = \"--size-only\"\n",
        "elif Compare == \"Only Checksum\":\n",
        "  os.environ[\"compareC\"] = \"-c --ignore-size\"\n",
        "else:\n",
        "  os.environ[\"compareC\"] = \"\"\n",
        "\n",
        "os.environ[\"sourceC\"] = Source\n",
        "os.environ[\"destinationC\"] = Destination\n",
        "os.environ[\"transfersC\"] = \"--transfers \"+str(Transfers)\n",
        "os.environ[\"checkersC\"] = \"--checkers \"+str(Checkers)\n",
        "\n",
        "if Skip_files_that_are_newer_on_the_destination == True:\n",
        "  os.environ[\"skipnewC\"] = \"-u\"\n",
        "else:\n",
        "  os.environ[\"skipnewC\"] = \"\"\n",
        "  \n",
        "if Skip_all_files_that_exist == True:\n",
        "  os.environ[\"skipexistC\"] = \"--ignore-existing\"\n",
        "else:\n",
        "  os.environ[\"skipexistC\"] = \"\"\n",
        "  \n",
        "if Do_not_cross_filesystem_boundaries == True:\n",
        "  os.environ[\"nocrossfilesystemC\"] = \"--one-file-system\"\n",
        "else:\n",
        "  os.environ[\"nocrossfilesystemC\"] = \"\"\n",
        "  \n",
        "if Do_not_update_modtime_if_files_are_identical == True:\n",
        "  os.environ[\"noupdatemodtimeC\"] = \"--no-update-modtime\"\n",
        "else:\n",
        "  os.environ[\"noupdatemodtimeC\"] = \"\"\n",
        "\n",
        "if Large_amount_of_files_optimization == True:\n",
        "  os.environ[\"filesoptimizeC\"] = \"--fast-list\"\n",
        "else:\n",
        "  os.environ[\"filesoptimizeC\"] = \"\"\n",
        "  \n",
        "if Google_Drive_optimization == True:\n",
        "  os.environ[\"driveoptimizeC\"] = \"--drive-chunk-size 64M --drive-acknowledge-abuse --drive-keep-revision-forever --disable copy\"\n",
        "else:\n",
        "  os.environ[\"driveoptimizeC\"] = \"\"\n",
        "  \n",
        "if Dry_Run == True:\n",
        "  os.environ[\"dryrunC\"] = \"-n\"\n",
        "else:\n",
        "  os.environ[\"dryrunC\"] = \"\"\n",
        "  \n",
        "if Output_Log_File != \"OFF\":\n",
        "  os.environ[\"statsC\"] = \"--log-file=/root/.rclone_log/rclone_log.txt\"\n",
        "else:\n",
        "  if Simple_Ouput == True:\n",
        "    os.environ[\"statsC\"] = \"-v --stats-one-line --stats=5s\"\n",
        "  else:\n",
        "    os.environ[\"statsC\"] = \"-v --stats=5s\"\n",
        "  \n",
        "if Output_Log_File == \"INFO\":\n",
        "  os.environ[\"loglevelC\"] = \"--log-level INFO\"\n",
        "elif Output_Log_File == \"ERROR\":\n",
        "  os.environ[\"loglevelC\"] = \"--log-level ERROR\"\n",
        "elif Output_Log_File == \"DEBUG\":\n",
        "  os.environ[\"loglevelC\"] = \"--log-level DEBUG\"\n",
        "else:\n",
        "  os.environ[\"loglevelC\"] = \"\"\n",
        "\n",
        "os.environ[\"extraC\"] = Extra_Arguments\n",
        "\n",
        "if Sync_Mode == \"Delete during transfer\":\n",
        "  os.environ[\"syncmodeC\"] = \"--delete-during\"\n",
        "elif Sync_Mode == \"Delete before transfering\":\n",
        "  os.environ[\"syncmodeC\"] = \"--delete-before\"\n",
        "elif Sync_Mode == \"Delete after transfering\":\n",
        "  os.environ[\"syncmodeC\"] = \"--delete-after\"\n",
        "  \n",
        "if Track_Renames == True:\n",
        "  os.environ[\"trackrenamesC\"] = \"--track-renames\"\n",
        "else:\n",
        "  os.environ[\"trackrenamesC\"] = \"\"\n",
        "  \n",
        "if Deduplicate_Mode == \"Interactive\":\n",
        "  os.environ[\"deduplicateC\"] = \"interactive\"\n",
        "elif Deduplicate_Mode == \"Skip\":\n",
        "  os.environ[\"deduplicateC\"] = \"skip\"\n",
        "elif Deduplicate_Mode == \"First\":\n",
        "  os.environ[\"deduplicateC\"] = \"first\"\n",
        "elif Deduplicate_Mode == \"Newest\":\n",
        "  os.environ[\"deduplicateC\"] = \"newest\"\n",
        "elif Deduplicate_Mode == \"Oldest\":\n",
        "  os.environ[\"deduplicateC\"] = \"oldest\"\n",
        "elif Deduplicate_Mode == \"Largest\":\n",
        "  os.environ[\"deduplicateC\"] = \"largest\"\n",
        "elif Deduplicate_Mode == \"Rename\":\n",
        "  os.environ[\"deduplicateC\"] = \"rename\"\n",
        "  \n",
        "if Deduplicate_Use_Trash == True:\n",
        "  os.environ[\"deduplicatetrashC\"] = \"\"\n",
        "else:\n",
        "  os.environ[\"deduplicatetrashC\"] = \"--drive-use-trash=false\"\n",
        "  \n",
        "### rclone Execution\n",
        "\n",
        "if Output_Log_File != \"OFF\" and Mode != \"Config\":\n",
        "  get_ipython().system_raw(\"mkdir -p -m 666 /root/.rclone_log/\")\n",
        "  display(HTML(\"<center><h2 style=\\\"font-family:Trebuchet MS;color:#ce2121;\\\">Logging enables, rclone will not output log through the terminal, please wait until finished.</h2><br></center>\"))\n",
        "\n",
        "if Mode == \"Config\":\n",
        "  !rclone --config=/root/.rclone.conf config\n",
        "elif Mode == \"Copy\":\n",
        "  !rclone --config=/root/.rclone.conf copy \"$sourceC\" \"$destinationC\" $transfersC $checkersC $statsC $loglevelC $compareC $skipnewC $skipexistC $nocrossfilesystemC $noupdatemodtimeC $bufferC $filesoptimizeC $driveoptimizeC $dryrunC $extraC\n",
        "elif Mode == \"Move\":\n",
        "  !rclone --config=/root/.rclone.conf move \"$sourceC\" \"$destinationC\" $transfersC $checkersC $statsC $loglevelC --delete-empty-src-dirs $compareC $skipnewC $skipexistC $nocrossfilesystemC $noupdatemodtimeC $bufferC $filesoptimizeC $driveoptimizeC $dryrunC $extraC\n",
        "elif Mode == \"Sync\":\n",
        "  !rclone --config=/root/.rclone.conf sync \"$sourceC\" \"$destinationC\" $transfersC $checkersC $statsC $loglevelC $syncmodeC $trackrenamesC $compareC $skipnewC $skipexistC $nocrossfilesystemC $noupdatemodtimeC $bufferC $filesoptimizeC $driveoptimizeC $dryrunC $extraC\n",
        "elif Mode == \"Checker\":\n",
        "  !rclone --config=/root/.rclone.conf check \"$sourceC\" \"$destinationC\" $checkersC $statsC $loglevelC $compareC $skipnewC $skipexistC $nocrossfilesystemC $noupdatemodtimeC $bufferC $filesoptimizeC $driveoptimizeC $dryrunC $extraC\n",
        "elif Mode == \"Deduplicate\":\n",
        "  !rclone --config=/root/.rclone.conf dedupe \"$sourceC\" $checkersC $statsC $loglevelC --dedupe-mode $deduplicateC $deduplicatetrashC $compareC $skipnewC $skipexistC $nocrossfilesystemC $noupdatemodtimeC $bufferC $filesoptimizeC $driveoptimizeC $dryrunC $extraC\n",
        "elif Mode == \"Remove Empty Directories\":\n",
        "  !rclone --config=/root/.rclone.conf rmdirs \"$sourceC\" $statsC $loglevelC $dryrunC $extraC\n",
        "elif Mode == \"Empty Trash\":\n",
        "  !rclone --config=/root/.rclone.conf cleanup \"$sourceC\" $statsC $loglevelC $dryrunC $extraC\n",
        "elif Mode == \"qBittorrent\":\n",
        "  if Source == \"\":\n",
        "    !chmod -R 666 /content/qBittorrent/ && rclone --config=/root/.rclone.conf move \"/content/qBittorrent/\" \"$destinationC\" $transfersC $checkersC $statsC $loglevelC --delete-empty-src-dirs --exclude **/.unwanted/ $compareC $skipnewC $skipexistC $nocrossfilesystemC $noupdatemodtimeC $bufferC $filesoptimizeC $driveoptimizeC $dryrunC $extraC\n",
        "\n",
        "### Log Output\n",
        "  \n",
        "if Output_Log_File != \"OFF\" and Mode != \"Config\" and os.path.isfile(\"/root/.rclone_log/rclone_log.txt\") == True:\n",
        "  ### Rename log file and output settings.\n",
        "  get_ipython().system_raw(\"mv /root/.rclone_log/rclone_log.txt /root/.rclone_log/rclone_log_$(date +%Y-%m-%d_%H.%M.%S).txt\")\n",
        "  with open(\"/root/.rclone_log/\" + Mode + \"_settings.txt\", \"w\") as f:\n",
        "    f.write(\"Mode: \" + Mode + \\\n",
        "            \"\\nCompare: \" + Compare + \\\n",
        "            \"\\nSource: \\\"\" + Source + \\\n",
        "            \"\\\"\\nDestination: \\\"\" + Destination + \\\n",
        "            \"\\\"\\nTransfers: \" + str(Transfers) + \\\n",
        "            \"\\nCheckers: \" + str(Checkers) + \\\n",
        "            \"\\nSkip files that are newer on the destination: \" + str(Skip_files_that_are_newer_on_the_destination) + \\\n",
        "            \"\\nSkip all files that exist: \" + str(Skip_all_files_that_exist) + \\\n",
        "            \"\\nDo not cross filesystem boundaries: \" + str(Do_not_cross_filesystem_boundaries) + \\\n",
        "            \"\\nDo not update modtime if files are identical: \" + str(Do_not_update_modtime_if_files_are_identical) + \\\n",
        "            \"\\nDry-Run: \" + str(Dry_Run) + \\\n",
        "            \"\\nOutput Log Level: \" + Output_Log_File + \\\n",
        "            \"\\nExtra Arguments: \\\"\" + Extra_Arguments + \\\n",
        "            \"\\\"\\nSync Moden: \" + Sync_Mode + \\\n",
        "            \"\\nTrack Renames: \" + str(Track_Renames) + \\\n",
        "            \"\\nDeduplicate Mode: \" + Deduplicate_Mode + \\\n",
        "            \"\\nDeduplicate Use Trash: \" + str(Deduplicate_Use_Trash))\n",
        "  ### Compressing log file.\n",
        "  get_ipython().system_raw(\"rm -f /root/rclone_log.zip && zip -r -q -j -9 /root/rclone_log.zip /root/.rclone_log/ && rm -rf /root/.rclone_log/ && mkdir -p -m 666 /root/.rclone_log/\")\n",
        "  ### Send Log\n",
        "  if os.path.isfile(\"/root/rclone_log.zip\") == True:\n",
        "    try:\n",
        "      files.download(\"/root/rclone_log.zip\")\n",
        "      get_ipython().system_raw(\"rm -f /root/rclone_log.zip\")\n",
        "      display(HTML(\"<center><h2 style=\\\"font-family:Trebuchet MS;color:#4f8bd6;\\\">Sending log to your browser...</h2><br></center>\"))\n",
        "    except:\n",
        "      get_ipython().system_raw(\"mv /root/rclone_log.zip /content/rclone_log_$(date +%Y-%m-%d_%H.%M.%S).zip\")\n",
        "      display(HTML(\"<center><h2 style=\\\"font-family:Trebuchet MS;color:#4f8bd6;\\\">You can use file explorer to download the log file.</h2><br><img src=\\\"https://minormole.github.io/RcloneLab/res/rclonelab/01.png\\\"><br></center>\"))\n",
        "  else:\n",
        "    clear_output()\n",
        "    display(HTML(\"<center><h2 style=\\\"font-family:Trebuchet MS;color:#ce2121;\\\">There is no log file.</h2><br></center>\"))\n",
        "\n",
        "### Operation has been successfully completed.\n",
        "if os.path.isfile(\"/usr/bin/rclone\") == False:\n",
        "  clear_output()\n",
        "  display(HTML(\"<center><h2 style=\\\"font-family:Trebuchet MS;color:#ce2121;\\\">❌ Please run the installation cell above first.</h2><br></center>\"))\n",
        "elif Source != \"\" and Mode == \"qBittorrent\":\n",
        "  display(HTML(\"<center><h2 style=\\\"font-family:Trebuchet MS;color:#ce2121;\\\">❌ Please empty the Source field in qBittorrent mode.</h2><br></center>\"))\n",
        "elif Mode != \"Config\":\n",
        "  display(HTML(\"<center><h2 style=\\\"font-family:Trebuchet MS;color:#00b24c;\\\">✅ Operation has been successfully completed.</h2><br></center>\"))"
      ],
      "execution_count": null,
      "outputs": []
    },
    {
      "cell_type": "markdown",
      "metadata": {
        "id": "sUjNTr6XpA-M"
      },
      "source": [
        "# 14 (A). Zipping all Files in a folder and getting output in  root directory \n",
        "\n",
        "**(Last modified by Sarah)**"
      ]
    },
    {
      "cell_type": "code",
      "metadata": {
        "id": "89B9TCu2pSnL",
        "cellView": "form"
      },
      "source": [
        "#@title ⬅️ Run This Cell to start zipping\n",
        "nameofzip= \"\" #@param {type:\"string\"}\n",
        "src = \"\" #@param {type:\"string\"}\n",
        "\n",
        "!7z a \"$nameofzip\".zip \"$src\""
      ],
      "execution_count": null,
      "outputs": []
    },
    {
      "cell_type": "markdown",
      "metadata": {
        "id": "NdrxJxC2KLZ8"
      },
      "source": [
        "# 14 (B). Zipping files in a folder to a separate destination folder\n",
        "\n",
        "**(Last modified by Sarah)**"
      ]
    },
    {
      "cell_type": "markdown",
      "metadata": {
        "id": "iEnsb9KBKVgH"
      },
      "source": [
        "\n",
        "---\n",
        "\n",
        "P.S:- **DESTINATION FOLDER**:-  \n",
        "\n",
        "\"Colab folder\" path is recomended. \n",
        "\n",
        "\"Gdrive folder\" path is not recomended (Chances of data corruption is there)\n",
        "\n",
        "\n",
        "\n",
        "Use \"Gdrive folder\" path as **output folder** only in one case.\n",
        "\n",
        "Where it will exceed the total Colab storage after Zipping of files, as you are going to Zip a large folder like 100Gb or 150GB, Use \"Gdrive path\" as **output folder**.\n",
        " \n",
        "---\n",
        "\n",
        "\n"
      ]
    },
    {
      "cell_type": "code",
      "metadata": {
        "id": "HANFSjOtLcJ-",
        "cellView": "form"
      },
      "source": [
        "#@title ⬅️ Run This Cell to  start zipping to destination folder\n",
        "src = \"\" #@param {type:\"string\"}\n",
        "nameofzip= \"\" #@param {type:\"string\"}\n",
        "dest = \"\" #@param {type:\"string\"}\n",
        "\n",
        "%cd \"$dest\"\n",
        "!7z a \"$nameofzip\".zip \"$src\"\n",
        "%cd /content\n",
        "\n",
        "print(\"Successfully Zipped to destination Folder\")"
      ],
      "execution_count": null,
      "outputs": []
    },
    {
      "cell_type": "markdown",
      "metadata": {
        "id": "8A46PwAJMxpt"
      },
      "source": [
        "# 15 (A). Unzipping Files with Password\n",
        "**(Provided by Bilibox)**"
      ]
    },
    {
      "cell_type": "code",
      "metadata": {
        "id": "1fUCZUHxM1hs",
        "cellView": "form"
      },
      "source": [
        "#@markdown <h3>⬅️ Click Here to start the extraction</h3>\n",
        "import os\n",
        "format = \"7z\" #@param [\"RAR\", \"ZIP\", \"7z\"]\n",
        "source_path = \"\" #@param {type:\"string\"}\n",
        "destination_folder = \"\" #@param {type:\"string\"}\n",
        "password = \"\" #@param {type:\"string\"}\n",
        "\n",
        "os.environ[\"sourceC\"] = source_path\n",
        "os.environ[\"destinationC\"] = destination_folder\n",
        "os.environ[\"pasC\"] = password\n",
        "\n",
        "if format == \"RAR\":\n",
        "  !unrar e \"-p$pasC\" \"$sourceC\" \"$destinationC\"\n",
        "elif format == \"ZIP\":\n",
        "  !unzip -P \"$pasC\" \"$sourceC\" -d \"$destinationC\"\n",
        "elif format == \"7z\":\n",
        "  !7z -mmt6 x \"$sourceC\" -o\"$destinationC\" -p\"$pasC\""
      ],
      "execution_count": null,
      "outputs": []
    },
    {
      "cell_type": "markdown",
      "metadata": {
        "id": "czee_wyhM9xj"
      },
      "source": [
        "# 15 (B). Another way of unzipping\n",
        "**(Some complained me that the above one is not working. Asking password for non-password rar files also. So I incorporated these codes as well)**\n",
        "\n",
        "**(Last modified by Sarah)**"
      ]
    },
    {
      "cell_type": "code",
      "metadata": {
        "id": "T8KQouE1NECV",
        "cellView": "form"
      },
      "source": [
        "#@markdown <h3>⬅️ Click Here to start the extraction</h3>\n",
        "import os\n",
        "source_path = \"\" #@param {type:\"string\"}\n",
        "destination_folder = \"\" #@param {type:\"string\"}\n",
        "\n",
        "os.environ[\"sourceC\"] = source_path\n",
        "os.environ[\"destinationC\"] = destination_folder\n",
        "\n",
        "!7z x \"$sourceC\" -o\"$destinationC\""
      ],
      "execution_count": null,
      "outputs": []
    },
    {
      "cell_type": "markdown",
      "metadata": {
        "id": "NkHoLXwuNVr-"
      },
      "source": [
        "# 16 . See the contents of rar files\n",
        "\n",
        "**(Last modified by Sarah)**"
      ]
    },
    {
      "cell_type": "code",
      "metadata": {
        "id": "rDGTCo8xRj6G",
        "cellView": "form"
      },
      "source": [
        "#@markdown <h3>⬅️ Run this to see the content of a RAR file\n",
        "FILEpath = \"\" #@param {type:\"string\"}\n",
        "!7z l \"$FILEpath\""
      ],
      "execution_count": null,
      "outputs": []
    },
    {
      "cell_type": "markdown",
      "metadata": {
        "id": "WEsQDiu3SYVx"
      },
      "source": [
        "# 17 . Utility\n",
        "\n",
        "**(Provided by MinorMole and Shix)**"
      ]
    },
    {
      "cell_type": "code",
      "metadata": {
        "id": "BgQKO9kTSdkm",
        "cellView": "form"
      },
      "source": [
        "#@markdown <h3>⬅️ Install Cloud Commander (file manager)</h3>\n",
        "#@markdown <br><center><img src='https://minormole.github.io/RcloneLab/img/title_cloud_commander.png' height=\"60\" alt=\"netdata\"/></center>\n",
        "\n",
        "import os, psutil, IPython, uuid, time\n",
        "import ipywidgets as widgets\n",
        "\n",
        "from IPython.display import HTML, clear_output\n",
        "from google.colab import output\n",
        "\n",
        "class MakeButton(object):\n",
        "  def __init__(self, title, callback):\n",
        "    self._title = title\n",
        "    self._callback = callback\n",
        "  def _repr_html_(self):\n",
        "    callback_id = 'button-' + str(uuid.uuid4())\n",
        "    output.register_callback(callback_id, self._callback)\n",
        "    template = \"\"\"<button class=\"p-Widget jupyter-widgets jupyter-button widget-button mod-info\" id=\"{callback_id}\">{title}</button>\n",
        "        <script>\n",
        "          document.querySelector(\"#{callback_id}\").onclick = (e) => {{\n",
        "            google.colab.kernel.invokeFunction('{callback_id}', [], {{}})\n",
        "            e.preventDefault();\n",
        "          }};\n",
        "        </script>\"\"\"\n",
        "    html = template.format(title=self._title, callback_id=callback_id)\n",
        "    return html\n",
        "  \n",
        "def MakeLabel(description, button_style):\n",
        "  return widgets.Button(description=description, disabled=True, button_style=button_style)\n",
        "\n",
        "def RandomGenerator():\n",
        "  return time.strftime(\"%S\") + str(time.time()).split(\".\")[-1]\n",
        "\n",
        "def CheckProcess(process, command):\n",
        "  for pid in psutil.pids():\n",
        "    try:\n",
        "      p = psutil.Process(pid)\n",
        "      if process in p.name():\n",
        "        for arg in p.cmdline():\n",
        "          if command in str(arg):  \n",
        "            return True\n",
        "          else:\n",
        "            pass\n",
        "      else:\n",
        "        pass\n",
        "    except:\n",
        "      continue\n",
        "  \n",
        "def AutoSSH(name,port):\n",
        "  get_ipython().system_raw(\"autossh -l \" + name + \" -M 0 -fNT -o 'StrictHostKeyChecking=no' -o 'ServerAliveInterval 300' -o 'ServerAliveCountMax 30' -R 80:localhost:\" + port + \" ssh.localhost.run &\")\n",
        "  get_ipython().system_raw(\"autossh -M 0 -fNT -o 'StrictHostKeyChecking=no' -o 'ServerAliveInterval 300' -o 'ServerAliveCountMax 30' -R \" + name + \":80:localhost:\" + port + \" serveo.net &\")\n",
        "\n",
        "def Start_ServerFM():\n",
        "  if CheckProcess(\"cloudcmd\", \"\") != True:\n",
        "    get_ipython().system_raw(\"cloudcmd --online --no-auth --show-config --show-file-name --editor 'deepword' --packer 'tar' --port 7007 --progress --no-confirm-copy --confirm-move --name 'RcloneLab File Manager' --keys-panel --no-contact --console --sync-console-path --no-terminal --no-vim --columns 'name-size-date' --no-log &\")\n",
        "  if CheckProcess(\"autossh\", \"fm\" + Random_NumberFM) != True:\n",
        "    AutoSSH(\"fm\" + Random_NumberFM, \"7007\")\n",
        "\n",
        "try:\n",
        "  try:\n",
        "    Random_NumberFM\n",
        "  except NameError:\n",
        "    Random_NumberFM = RandomGenerator()\n",
        "    display(MakeLabel('Installing in Progress', 'warning'))\n",
        "  if os.path.isfile(\"/tools/node/bin/cloudcmd\") == False:\n",
        "    get_ipython().system_raw(\"rm -rf /content/sample_data/ && npm i -g npm && npm i cloudcmd -g\")\n",
        "  if os.path.isfile(\"/usr/bin/autossh\") == False:\n",
        "    get_ipython().system_raw(\"apt update -qq -y && apt install autossh -qq -y\")\n",
        "  Start_ServerFM()\n",
        "  clear_output(wait=True)\n",
        "  display(MakeLabel(\"✔ Successfully\", \"success\"), MakeButton(\"Recheck\", Start_ServerFM), HTML(\"<h2 style=\\\"font-family:Trebuchet MS;color:#4f8bd6;\\\">File Manager</h2><h4 style=\\\"font-family:Trebuchet MS;color:#4f8bd6;\\\">\" \\\n",
        "                    \"<a style=\\\"font-family:Trebuchet MS;color:#356ebf;\\\" href=\\\"https://fm\" + Random_NumberFM + \".serveo.net/fs/content/\\\" target=\\\"_blank\\\">Website</a><br>\" \\\n",
        "                    \"<a style=\\\"font-family:Trebuchet MS;color:#356ebf;\\\" href=\\\"http://fm\" + Random_NumberFM + \".localhost.run/fs/content/\\\" target=\\\"_blank\\\">Website (Backup)</a></h3>\"))\n",
        "except:\n",
        "  clear_output(wait=True)\n",
        "  display(MakeLabel(\"✘ Unsuccessfully\", \"danger\")) "
      ],
      "execution_count": null,
      "outputs": []
    },
    {
      "cell_type": "code",
      "metadata": {
        "id": "Hby22aU3Sht1",
        "cellView": "form"
      },
      "source": [
        "======================= FORM ============================= #\n",
        "#@markdown <h3>⬅️ Install netdata (Real-time Server Monitoring)</h3>\n",
        "#@markdown <br><center><img src='https://minormole.github.io/RcloneLab/img/title_netdata.png' height=\"60\" alt=\"netdata\"/></center>\n",
        "# ================================================================ #\n",
        "\n",
        "import os, psutil, IPython, uuid, time\n",
        "import ipywidgets as widgets\n",
        "\n",
        "from IPython.display import HTML, clear_output\n",
        "from google.colab import output\n",
        "\n",
        "class MakeButton(object):\n",
        "  def __init__(self, title, callback):\n",
        "    self._title = title\n",
        "    self._callback = callback\n",
        "  def _repr_html_(self):\n",
        "    callback_id = 'button-' + str(uuid.uuid4())\n",
        "    output.register_callback(callback_id, self._callback)\n",
        "    template = \"\"\"<button class=\"p-Widget jupyter-widgets jupyter-button widget-button mod-info\" id=\"{callback_id}\">{title}</button>\n",
        "        <script>\n",
        "          document.querySelector(\"#{callback_id}\").onclick = (e) => {{\n",
        "            google.colab.kernel.invokeFunction('{callback_id}', [], {{}})\n",
        "            e.preventDefault();\n",
        "          }};\n",
        "        </script>\"\"\"\n",
        "    html = template.format(title=self._title, callback_id=callback_id)\n",
        "    return html\n",
        "\n",
        "def MakeLabel(description, button_style):\n",
        "  return widgets.Button(description=description, disabled=True, button_style=button_style)\n",
        "\n",
        "def RandomGenerator():\n",
        "  return time.strftime(\"%S\") + str(time.time()).split(\".\")[-1]\n",
        "\n",
        "def CheckProcess(process, command):\n",
        "  for pid in psutil.pids():\n",
        "    try:\n",
        "      p = psutil.Process(pid)\n",
        "      if process in p.name():\n",
        "        for arg in p.cmdline():\n",
        "          if command in str(arg):  \n",
        "            return True\n",
        "          else:\n",
        "            pass\n",
        "      else:\n",
        "        pass\n",
        "    except:\n",
        "      continue\n",
        "\n",
        "def AutoSSH(name,port):\n",
        "  get_ipython().system_raw(\"autossh -l \" + name + \" -M 0 -fNT -o 'StrictHostKeyChecking=no' -o 'ServerAliveInterval 300' -o 'ServerAliveCountMax 30' -R 80:localhost:\" + port + \" ssh.localhost.run &\")\n",
        "  get_ipython().system_raw(\"autossh -M 0 -fNT -o 'StrictHostKeyChecking=no' -o 'ServerAliveInterval 300' -o 'ServerAliveCountMax 30' -R \" + name + \":80:localhost:\" + port + \" serveo.net &\")\n",
        "\n",
        "def Start_ServerMT():\n",
        "  if CheckProcess(\"netdata\", \"\") != True:\n",
        "    get_ipython().system_raw(\"/usr/sbin/netdata\")\n",
        "  if CheckProcess(\"autossh\", \"mt\" + Random_NumberMT) != True:\n",
        "      AutoSSH(\"mt\" + Random_NumberMT, \"19999\")\n",
        "\n",
        "try:\n",
        "  try:\n",
        "    Random_NumberMT\n",
        "  except NameError:\n",
        "    display(MakeLabel(\"Installing in Progress\", \"warning\"))\n",
        "    Random_NumberMT = RandomGenerator()\n",
        "  if os.path.isfile(\"/usr/bin/autossh\") == False:\n",
        "    get_ipython().system_raw(\"apt update -qq -y && apt install autossh -qq -y\")\n",
        "  if os.path.isfile(\"/usr/sbin/netdata\") == False:\n",
        "    get_ipython().system_raw(\"bash <(curl -Ss https://my-netdata.io/kickstart.sh) --dont-wait --dont-start-it\")\n",
        "  Start_ServerMT()\n",
        "  clear_output(wait=True)\n",
        "  display(MakeLabel(\"✔ Successfully\", \"success\"), MakeButton(\"Recheck\", Start_ServerMT), HTML(\"<h4 style=\\\"font-family:Trebuchet MS;color:#4f8bd6;\\\">\" \\\n",
        "                    \"<a style=\\\"font-family:Trebuchet MS;color:#356ebf;\\\" href=\\\"https://mt\" + Random_NumberMT + \".serveo.net\\\" target=\\\"_blank\\\">Website</a><br>\" \\\n",
        "                    \"<a style=\\\"font-family:Trebuchet MS;color:#356ebf;\\\" href=\\\"https://mt\" + Random_NumberMT + \".localhost.run\\\" target=\\\"_blank\\\">Website (Backup)</a></h4>\"))\n",
        "except:\n",
        "  clear_output(wait=True)\n",
        "  display(MakeLabel(\"✘ Unsuccessfully\", \"danger\"))"
      ],
      "execution_count": null,
      "outputs": []
    },
    {
      "cell_type": "code",
      "metadata": {
        "id": "3l0mG2G5SkOk",
        "cellView": "form"
      },
      "source": [
        "# ============================= FORM ============================= #\n",
        "#@markdown <h3>⬅️ Check VM's Status</h3>\n",
        "Loop_Check = True #@param {type:\"boolean\"}\n",
        "Loop_Interval = 5 #@param {type:\"slider\", min:1, max:15, step:1}\n",
        "# ================================================================ #\n",
        "\n",
        "import time\n",
        "from IPython.display import clear_output\n",
        "Loop = True\n",
        "\n",
        "try:\n",
        "  while Loop == True:\n",
        "    clear_output(wait=True)\n",
        "    !top -bcn1 -w512\n",
        "    if Loop_Check == False:\n",
        "      Loop = False\n",
        "    else:\n",
        "      time.sleep(Loop_Interval)\n",
        "except:\n",
        "  clear_output()"
      ],
      "execution_count": null,
      "outputs": []
    },
    {
      "cell_type": "code",
      "metadata": {
        "id": "daKcimvzSmn8",
        "cellView": "form"
      },
      "source": [
        "# ============================= FORM ============================= #\n",
        "#@markdown <h3>⬅️ Get VM's Specification</h3>\n",
        "Output_Format = \"TEXT\" #@param [\"TEXT\", \"HTML\", \"XML\", \"JSON\"]\n",
        "Short_Output = True #@param {type:\"boolean\"}\n",
        "# ================================================================ #\n",
        "\n",
        "import os\n",
        "from google.colab import files\n",
        "from IPython.display import HTML, clear_output\n",
        "\n",
        "try:\n",
        "  Output_Format_Ext\n",
        "except NameError:\n",
        "  get_ipython().system_raw(\"apt install lshw -qq -y\")\n",
        "\n",
        "if Short_Output == True:\n",
        "  Output_Format = \"txt\"\n",
        "  Output_Format2 = \"-short\"\n",
        "  Output_Format_Ext = \"txt\"\n",
        "elif Output_Format == \"TEXT\":\n",
        "  Output_Format = \"txt\"\n",
        "  Output_Format2 = \"\"\n",
        "  Output_Format_Ext = \"txt\"\n",
        "else:\n",
        "  Output_Format = Output_Format.lower()\n",
        "  Output_Format2 = \"-\"+Output_Format.lower()\n",
        "  Output_Format_Ext = Output_Format.lower()\n",
        "\n",
        "get_ipython().system_raw(\"lshw \" + Output_Format2 + \" > Specification.\" + Output_Format)\n",
        "files.download(\"/content/Specification.\" + Output_Format_Ext)\n",
        "get_ipython().system_raw(\"rm -f /content/Specification.$outputformatC\")\n",
        "display(HTML(\"<center><h2 style=\\\"font-family:Trebuchet MS;color:#4f8bd6;\\\">Sending log to your browser...</h2><br></center>\"))"
      ],
      "execution_count": null,
      "outputs": []
    },
    {
      "cell_type": "markdown",
      "metadata": {
        "id": "_KYtrGYTStVu"
      },
      "source": [
        "# 18 . MD5 Checking\n",
        "**(Provided by Accorsi)**"
      ]
    },
    {
      "cell_type": "code",
      "metadata": {
        "id": "MY3mgDPiS1Ag",
        "cellView": "form"
      },
      "source": [
        "#@markdown <h3>⬅️ Run this to generate MD5 of file\n",
        "FILEpath = \"\" #@param {type:\"string\"}\n",
        "!md5sum \"$FILEpath\""
      ],
      "execution_count": null,
      "outputs": []
    },
    {
      "cell_type": "markdown",
      "metadata": {
        "id": "8y0N4R46TDWW"
      },
      "source": [
        "# 19 . Check storage usage space\n",
        "**(Provided by Laxudope and last modified by Sarah)**"
      ]
    },
    {
      "cell_type": "code",
      "metadata": {
        "id": "cBkxTBcrTKL7",
        "cellView": "form"
      },
      "source": [
        "#@title ⬅️ Run This Cell to calculate the storage usage\n",
        "Folderpath= \"\" #@param {type:\"string\"}\n",
        "!du -sh \"$Folderpath\""
      ],
      "execution_count": null,
      "outputs": []
    },
    {
      "cell_type": "markdown",
      "metadata": {
        "id": "qRFsj7eCTNxm"
      },
      "source": [
        "# 20 . SSH\n",
        "**(Provided by Laxudope and modified by | K E N W A Y |)**"
      ]
    },
    {
      "cell_type": "code",
      "metadata": {
        "id": "ydYeeysPTRnC",
        "cellView": "form"
      },
      "source": [
        "#@markdown <h2>⬅️ Click Here For SSH</h2>\n",
        "import random, string, urllib.request, json, getpass\n",
        "\n",
        "#Generate root password\n",
        "password = ''.join(random.choice(string.ascii_letters + string.digits) for i in range(20))\n",
        "\n",
        "#Download ngrok\n",
        "! wget -q -c -nc https://bin.equinox.io/c/4VmDzA7iaHb/ngrok-stable-linux-amd64.zip\n",
        "! unzip -qq -n ngrok-stable-linux-amd64.zip\n",
        "\n",
        "#Setup sshd\n",
        "! apt-get install -qq -o=Dpkg::Use-Pty=0 openssh-server pwgen > /dev/null\n",
        "\n",
        "#Set root password\n",
        "! echo root:$password | chpasswd\n",
        "! mkdir -p /var/run/sshd\n",
        "! echo \"PermitRootLogin yes\" >> /etc/ssh/sshd_config\n",
        "! echo \"PasswordAuthentication yes\" >> /etc/ssh/sshd_config\n",
        "! echo \"LD_LIBRARY_PATH=/usr/lib64-nvidia\" >> /root/.bashrc\n",
        "! echo \"export LD_LIBRARY_PATH\" >> /root/.bashrc\n",
        "\n",
        "#Run sshd\n",
        "get_ipython().system_raw('/usr/sbin/sshd -D &')\n",
        "\n",
        "#Ask token\n",
        "print(\"Copy authtoken from https://dashboard.ngrok.com/auth\")\n",
        "authtoken = getpass.getpass()\n",
        "\n",
        "#Create tunnel\n",
        "get_ipython().system_raw('./ngrok authtoken $authtoken && ./ngrok tcp 22 &')\n",
        "\n",
        "#Get public address and print connect command\n",
        "with urllib.request.urlopen('http://localhost:4040/api/tunnels') as response:\n",
        "  data = json.loads(response.read().decode())\n",
        "  (host, port) = data['tunnels'][0]['public_url'][6:].split(':')\n",
        "  print(f'SSH command: ssh -p{port} root@{host}')\n",
        "\n",
        "#Print root password\n",
        "print(f'Root password: {password}')"
      ],
      "execution_count": null,
      "outputs": []
    },
    {
      "cell_type": "markdown",
      "metadata": {
        "id": "8hXX3_M1TX0w"
      },
      "source": [
        "# 21 . TIDAL Download\n",
        "\n",
        "**(Provided by Laxudope)**"
      ]
    },
    {
      "cell_type": "code",
      "metadata": {
        "id": "GaCOimh_TbZ0",
        "cellView": "form"
      },
      "source": [
        "#@markdown <h2>⬅️ Click Here For for TIDAL Downlaoder</h2>\n",
        "!pip install tidal-dl --upgrade\n",
        "!tidal-dl"
      ],
      "execution_count": null,
      "outputs": []
    },
    {
      "cell_type": "markdown",
      "metadata": {
        "id": "7h-NdRoFTdyw"
      },
      "source": [
        "# 22 . Blackpearl Posting Template generator\n",
        "\n",
        "**(Provided by Rudo2204 aand updated by Batman)**\n",
        "\n",
        "**(For details** visit https://blackpearl.biz/threads/5627/)"
      ]
    },
    {
      "cell_type": "code",
      "metadata": {
        "id": "gpEx_xOYTiMs",
        "cellView": "form"
      },
      "source": [
        "#@title Install additional packages and mount Google Drive { vertical-output: true }\n",
        "from IPython.display import clear_output\n",
        "import os\n",
        "os.system('apt install mediainfo')\n",
        "os.system('pip install git+git://github.com/AWConant/jikanpy.git')\n",
        "clear_output(wait=True)\n",
        "print('Installation finished. Now mount your Google Drive.')\n",
        "from google.colab import drive\n",
        "drive.mount('/content/drive')\n",
        "clear_output(wait=True)\n",
        "print('Drive is mounted. Setup is completed.')"
      ],
      "execution_count": null,
      "outputs": []
    },
    {
      "cell_type": "markdown",
      "metadata": {
        "id": "i7g1JusJTllG"
      },
      "source": [
        "<img src='https://i.imgur.com/N4bdPff.png' height=\"30\" alt=\"IMDB\"/>\n",
        "Generate IMDB template"
      ]
    },
    {
      "cell_type": "code",
      "metadata": {
        "id": "tPQntUACTk_Y",
        "cellView": "form"
      },
      "source": [
        "import urllib.request\n",
        "import json\n",
        "import re\n",
        "import requests\n",
        "import sys\n",
        "import subprocess\n",
        "import os\n",
        "import time\n",
        "from IPython.display import clear_output\n",
        "from bs4 import BeautifulSoup\n",
        "\n",
        "# Variables\n",
        "headers = {'User-Agent': 'Mozilla/5.0 (Macintosh; Intel Mac OS X 10.8; rv:21.0) Gecko/20100101 Firefox/21.0'}\n",
        "#@markdown ###Insert your API key\n",
        "api_key = '' #@param {type:\"string\"}\n",
        "#@markdown ---\n",
        "#@markdown ###IMDB Information\n",
        "IMDB_URL_OR_ID = '' #@param {type:\"string\"}\n",
        "imdb_pattern = re.compile('(tt\\d{7,8})')\n",
        "youtube_pattern = re.compile('(https?://)?(www\\.)?(youtube|youtu|youtube-nocookie)\\.(com|be)/(watch\\?v=|embed/|v/|.+\\?v=)?(?P<id>[A-Za-z0-9\\-=_]{11})')\n",
        "imdb_id = re.findall(imdb_pattern, IMDB_URL_OR_ID)[0]\n",
        "\n",
        "def get_imdb_template(imdb_id):\n",
        "  imdb_url = f'http://www.omdbapi.com/?i={imdb_id}&apikey={api_key}&r=json&plot=full'\n",
        "  #@markdown ---\n",
        "  #@markdown ###Movie Information\n",
        "  Trailer = \"\" #@param {type:\"string\"}\n",
        "  Screenshot = \"\" #@param {type:\"string\"}\n",
        "  youtube_match = re.match(youtube_pattern, Trailer)\n",
        "  if Trailer != \"\":\n",
        "    if not youtube_match:\n",
        "      clear_output()\n",
        "      print('Your trailer link is invalid. Please only put in youtube link!')\n",
        "      sys.exit()\n",
        "    else:\n",
        "      trailer_enabled = True\n",
        "  else:\n",
        "    trailer_enabled = False\n",
        "\n",
        "  if Screenshot != \"\":\n",
        "    screenshot_list = Screenshot.split(\" \")\n",
        "    screenshot_enabled = True\n",
        "  else:\n",
        "    screenshot_enabled = False\n",
        "\n",
        "  Path = \"\" #@param {type:\"string\"}\n",
        "  if Path == \"\":\n",
        "    mediainfo_enabled = False\n",
        "  else:\n",
        "    mediainfo_enabled = True\n",
        "    tmp = subprocess.Popen('mediainfo --Logfile=/root/.nfo \"{}\"'.format(Path), stdout=subprocess.PIPE, stderr=subprocess.PIPE, shell=True)\n",
        "    time.sleep(5) # Wait 5s for the nfo file to populate properly\n",
        "    with open('/root/.nfo', 'r', encoding='utf-8') as nfo_file:\n",
        "      nfo = nfo_file.readlines()\n",
        "      del nfo[1]\n",
        "      nfo[1] = \"Complete name                            : {}\\n\".format(os.path.basename(Path))\n",
        "      nfo = ''.join(nfo)\n",
        "\n",
        "  Link = \"\" #@param {type:\"string\"}\n",
        "  if Link == \"\":\n",
        "    print(\"You forgot putting in the link to download!\")\n",
        "    sys.exit()\n",
        "\n",
        "  #@markdown ---\n",
        "  #@markdown ###Forum Requirements\n",
        "  Likes = 0 #@param {type: \"number\"}\n",
        "  Posts = 0 #@param {type: \"number\"}\n",
        "  Thanks = True #@param {type:\"boolean\"}\n",
        "\n",
        "  def get_story_line(imdb_id):\n",
        "    url = 'https://www.imdb.com/title/{}'.format(imdb_id)\n",
        "    r = requests.get(url, headers=headers)\n",
        "    data = r.text\n",
        "    soup = BeautifulSoup(data, 'html.parser')\n",
        "    story_line = soup.find_all('div', class_='inline canwrap')[0].find('span').text.lstrip()\n",
        "    return story_line\n",
        "\n",
        "  # Fetch data\n",
        "  with urllib.request.urlopen(imdb_url) as imdb_url:\n",
        "    imdb_data = json.loads(imdb_url.read().decode())\n",
        "\n",
        "  # Process data\n",
        "  text_dump = \"[center][img]{}[/img]\\n\".format(imdb_data['Poster'])\n",
        "  text_dump += \"[color=rgb(250, 197, 28)][b][size=6]{} ({})[/size][/b][/color]\\n\".format(imdb_data['Title'], imdb_data['Year'])\n",
        "  text_dump += \"[url=https://www.imdb.com/title/{}][img]https://i.imgur.com/rcSipDw.png[/img][/url][size=6][b] {}[/b]/10[/size]\".format(imdb_id, imdb_data['imdbRating'])\n",
        "  text_dump += \"[size=6] --- [img]https://i.imgur.com/sEpKj3O.png[/img]{}[/size][/center]\\n\".format(imdb_data['imdbVotes'])\n",
        "  text_dump += \"[hr][/hr][indent][size=6][color=rgb(250, 197, 28)][b]Plot Summary[/b][/color][/size][/indent]\\n\"\n",
        "  text_dump += \"{}\\n\".format(get_story_line(imdb_id))\n",
        "  if trailer_enabled:\n",
        "    text_dump += \"[hr][/hr][indent][size=6][color=rgb(250, 197, 28)][b]Trailer[/b][/color][/size][/indent]\\n\"\n",
        "    text_dump += \"[media=youtube]{}[/media]\\n\".format(youtube_match.group(6))\n",
        "  if screenshot_enabled:\n",
        "    text_dump += \"[hr][/hr][indent][size=6][color=rgb(250, 197, 28)][b]Screenshot[/b][/color][/size][/indent]\\n\"\n",
        "    text_dump += \"[spoiler='Click here to view screenshots']\\n\"\n",
        "    for i in screenshot_list:\n",
        "      text_dump += \"[img]{}[/img]\\n\".format(i)\n",
        "    text_dump += \"[/spoiler]\"\n",
        "  text_dump += \"[hr][/hr][indent][size=6][color=rgb(250, 197, 28)][b]Movie Info[/b][/color][/size][/indent]\\n\"\n",
        "  text_dump += \"[LIST][*][color=rgb(255, 204, 0)]Rating:[/color] {}\\n\".format(imdb_data['Rated'])\n",
        "  text_dump += \"[*][color=rgb(255, 204, 0)]Genre:[/color] {}\\n\".format(imdb_data['Genre'])\n",
        "  text_dump += \"[*][color=rgb(255, 204, 0)]Directed By:[/color] {}\\n\".format(imdb_data['Director'])\n",
        "  text_dump += \"[*][color=rgb(255, 204, 0)]Written By:[/color] {}\\n\".format(imdb_data['Writer'])\n",
        "  text_dump += \"[*][color=rgb(255, 204, 0)]Starring:[/color] {}\\n\".format(imdb_data['Actors'])\n",
        "  text_dump += \"[*][color=rgb(255, 204, 0)]Release Date:[/color] {}\\n\".format(imdb_data['Released'])\n",
        "  try:\n",
        "    text_dump += \"[*][color=rgb(255, 204, 0)]Runtime:[/color] {}\\n\".format(imdb_data['Runtime'])\n",
        "  except:\n",
        "    text_dump += \"[*][color=rgb(255, 204, 0)]Runtime:[/color] N/A\\n\"\n",
        "  try:\n",
        "    text_dump += \"[*][color=rgb(255, 204, 0)]On Disk/Streaming:[/color] {}\\n\".format(imdb_data['DVD'])\n",
        "  except:\n",
        "    text_dump += \"[*][color=rgb(255, 204, 0)]On Disk/Streaming:[/color] N/A\\n\"\n",
        "  try:\n",
        "    text_dump += \"[*][color=rgb(255, 204, 0)]Box Office:[/color] {}\\n\".format(imdb_data['BoxOffice'])\n",
        "  except:\n",
        "    text_dump += \"[*][color=rgb(255, 204, 0)]Box Office:[/color] N/A\\n\"\n",
        "  text_dump += \"[*][color=rgb(255, 204, 0)]Awards:[/color] {}\\n\".format(imdb_data['Awards'])\n",
        "  try:\n",
        "    text_dump += \"[*][color=rgb(255, 204, 0)]Studio:[/color] {}[/LIST]\\n\".format(imdb_data['Production'])\n",
        "  except:\n",
        "    text_dump += \"[*][color=rgb(255, 204, 0)]Studio:[/color] N/A[/LIST]\\n\"\n",
        "  if mediainfo_enabled:\n",
        "    text_dump += \"[hr][/hr][indent][size=6][color=rgb(250, 197, 28)][b]Media Info[/b][/color][/size][/indent]\\n\"\n",
        "    text_dump += \"[spoiler='Click here to view Media Info'][code]{}[/code][/spoiler]\\n\".format(nfo)\n",
        "  text_dump += \"[hr][/hr][center][size=6][color=rgb(250, 197, 28)][b]Download Link[/b][/color][/size][/center]\\n\"\n",
        "  if Thanks:\n",
        "    if Likes != 0 and Posts == 0:\n",
        "      text_dump += \"[center][hidereactscore={}][hidereact=1,2,3,4,5,6]{}[/hidereact][/hidereactscore][/center]\".format(Likes, Link)\n",
        "    elif Likes == 0 and Posts != 0:\n",
        "      text_dump += \"[center][hideposts={}][hidereact=1,2,3,4,5,6]{}[/hidereact][/hideposts][/center]\".format(Posts, Link)\n",
        "    elif Likes != 0 and Posts != 0:\n",
        "      text_dump += \"[center][hidereactscore={}][hideposts={}][hidereact=1,2,3,4,5,6]{}[/hidereact][/hideposts][/hidereactscore][/center]\".format(Likes, Posts, Link)\n",
        "    else:\n",
        "      text_dump += \"[center][hidereact=1,2,3,4,5,6]{}[/hidereact][/center]\".format(Link)\n",
        "  else:\n",
        "    if Likes != 0 and Posts == 0:\n",
        "      text_dump += \"[center][hidereactscore={}]{}[/hidereactscore][/center]\".format(Likes, Link)\n",
        "    elif Likes == 0 and Posts != 0:\n",
        "      text_dump += \"[center][hideposts={}]{}[/hideposts][/center]\".format(Posts, Link)\n",
        "    elif Likes != 0 and Posts != 0:\n",
        "      text_dump += \"[center][hidereactscore={}][hideposts={}]{}[/hideposts][/hidereactscore][/center]\".format(Likes, Posts, Link)\n",
        "    else:\n",
        "      text_dump += \"[center]{}[/center]\".format(Link)\n",
        "\n",
        "  return text_dump\n",
        "\n",
        "print(get_imdb_template(imdb_id))"
      ],
      "execution_count": null,
      "outputs": []
    },
    {
      "cell_type": "markdown",
      "metadata": {
        "id": "ARfbBldyTtU5"
      },
      "source": [
        " <img src='https://i.imgur.com/e5Thsob.jpg?1' height=\"25\" alt=\"MAL\"/> \n",
        " **Generate MAL template**"
      ]
    },
    {
      "cell_type": "code",
      "metadata": {
        "id": "K-p-1oEvTwC1",
        "cellView": "form"
      },
      "source": [
        "import re\n",
        "import sys\n",
        "import os\n",
        "import time\n",
        "import subprocess\n",
        "from bs4 import BeautifulSoup\n",
        "from IPython.display import clear_output\n",
        "from jikanpy import Jikan\n",
        "\n",
        "jikan = Jikan()\n",
        "\n",
        "#@markdown ###MAL Information\n",
        "Anime_URL_OR_ID = '' #@param {type: \"string\"}\n",
        "mal_pattern = re.compile('(anime)?/(\\d{1,7})/(.+)?')\n",
        "if re.match(r'\\d+', Anime_URL_OR_ID):\n",
        "  mal_id = Anime_URL_OR_ID\n",
        "else:\n",
        "  mal_id = re.findall(mal_pattern, Anime_URL_OR_ID)[0][1]\n",
        "youtube_pattern = re.compile('(https?://)?(www\\.)?(youtube|youtu|youtube-nocookie)\\.(com|be)/(watch\\?v=|embed/|v/|.+\\?v=)?(?P<id>[A-Za-z0-9\\-=_]{11})')\n",
        "\n",
        "def get_mal_template(mal_id):\n",
        "  # Fetch data\n",
        "  anime_data = jikan.anime(mal_id)\n",
        "  #@markdown ---\n",
        "  #@markdown ###Anime Information\n",
        "  Screenshot = \"\" #@param {type:\"string\"}\n",
        "  if Screenshot != \"\":\n",
        "    screenshot_list = Screenshot.split(\" \")\n",
        "    screenshot_enabled = True\n",
        "  else:\n",
        "    screenshot_enabled = False\n",
        "\n",
        "  def get_info(anime_data, info):\n",
        "    text = ''\n",
        "    for i in range(len(anime_data[f'{info}'])):\n",
        "      text += anime_data[info][i]['name'] + ', '\n",
        "    return text[:-2]\n",
        "\n",
        "  Path = \"\" #@param {type:\"string\"}\n",
        "  if Path == \"\":\n",
        "    mediainfo_enabled = False\n",
        "  else:\n",
        "    mediainfo_enabled = True\n",
        "    tmp = subprocess.Popen('mediainfo --Logfile=/root/.nfo \"{}\"'.format(Path), stdout=subprocess.PIPE, stderr=subprocess.PIPE, shell=True)\n",
        "    time.sleep(5) # Wait 5s for the nfo file to populate properly\n",
        "    with open('/root/.nfo', 'r', encoding='utf-8') as nfo_file:\n",
        "      nfo = nfo_file.readlines()\n",
        "      del nfo[1]\n",
        "      nfo[1] = \"Complete name                            : {}\\n\".format(os.path.basename(Path))\n",
        "      nfo = ''.join(nfo)\n",
        "\n",
        "  Link = \"\" #@param {type:\"string\"}\n",
        "  if Link == \"\":\n",
        "    print(\"You forgot putting in the link to download!\")\n",
        "    sys.exit()\n",
        "\n",
        "  #@markdown ---\n",
        "  #@markdown ###Forum Requirements\n",
        "  Likes = 0 #@param {type: \"number\"}\n",
        "  Posts = 0 #@param {type: \"number\"}\n",
        "  Thanks = True #@param {type:\"boolean\"}\n",
        "\n",
        "  # Process data\n",
        "  text_dump = \"[center][img]{}[/img]\\n\".format(anime_data['image_url'])\n",
        "  text_dump += \"[color=rgb(250, 197, 28)][b][size=6]{} ({} - {})[/size][/b][/color]\\n\".format(anime_data['title'], anime_data['type'], anime_data['premiered'])\n",
        "  text_dump += \"[url={}][img]https://i.imgur.com/YJgzM4V.png[/img][/url][size=6][b] {}[/b]/10[/size]\".format(anime_data['url'], anime_data['score'])\n",
        "  text_dump += \"[size=6] --- [img]https://i.imgur.com/sEpKj3O.png[/img]{}[/size][/center]\\n\".format(anime_data['scored_by'])\n",
        "  text_dump += \"[hr][/hr][indent][size=6][color=rgb(250, 197, 28)][b]Synopsis[/b][/color][/size][/indent]\\n\"\n",
        "  text_dump += \"{}\\n\".format(anime_data['synopsis'])\n",
        "  try:\n",
        "    text_dump += \"[hr][/hr][indent][size=6][color=rgb(250, 197, 28)][b]Trailer[/b][/color][/size][/indent]\\n\"\n",
        "    text_dump += \"[media=youtube]{}[/media]\\n\".format(re.match(youtube_pattern, str(anime_data['trailer_url'])).group(6))\n",
        "  except:\n",
        "    pass\n",
        "  if screenshot_enabled:\n",
        "    text_dump += \"[hr][/hr][indent][size=6][color=rgb(250, 197, 28)][b]Screenshot[/b][/color][/size][/indent]\\n\"\n",
        "    text_dump += \"[spoiler='Click here to view screenshots']\\n\"\n",
        "    for i in screenshot_list:\n",
        "      text_dump += \"[img]{}[/img]\\n\".format(i)\n",
        "    text_dump += \"[/spoiler]\"\n",
        "  text_dump += \"[hr][/hr][indent][size=6][color=rgb(250, 197, 28)][b]Anime Info[/b][/color][/size][/indent]\\n\"\n",
        "  text_dump += \"[LIST][*][color=rgb(255, 204, 0)]Rating:[/color] {}\\n\".format(anime_data['rating'])\n",
        "  text_dump += \"[*][color=rgb(255, 204, 0)]Type:[/color] {}\\n\".format(anime_data['type'])\n",
        "  text_dump += \"[*][color=rgb(255, 204, 0)]Episodes:[/color] {}\\n\".format(anime_data['episodes'])\n",
        "  text_dump += \"[*][color=rgb(255, 204, 0)]Status:[/color] {}\\n\".format(anime_data['status'])\n",
        "  text_dump += \"[*][color=rgb(255, 204, 0)]Aired:[/color] {}\\n\".format(anime_data['aired']['string'])\n",
        "  text_dump += \"[*][color=rgb(255, 204, 0)]Premiered:[/color] {}\\n\".format(anime_data['premiered'])\n",
        "  text_dump += \"[*][color=rgb(255, 204, 0)]Producers:[/color] {}\\n\".format(get_info(anime_data, 'producers'))\n",
        "  text_dump += \"[*][color=rgb(255, 204, 0)]Studios:[/color] {}\\n\".format(get_info(anime_data, 'studios'))\n",
        "  text_dump += \"[*][color=rgb(255, 204, 0)]Source:[/color] {}\\n\".format(anime_data['source'])\n",
        "  text_dump += \"[*][color=rgb(255, 204, 0)]Genres:[/color] {}\\n\".format(get_info(anime_data, 'genres'))\n",
        "  text_dump += \"[*][color=rgb(255, 204, 0)]Duration:[/color] {}\\n\".format(anime_data['duration'])\n",
        "  if mediainfo_enabled:\n",
        "    text_dump += \"[hr][/hr][indent][size=6][color=rgb(250, 197, 28)][b]Media Info[/b][/color][/size][/indent]\\n\"\n",
        "    text_dump += \"[spoiler='Click here to view Media Info'][code]{}[/code][/spoiler]\\n\".format(nfo)\n",
        "  text_dump += \"[hr][/hr][center][size=6][color=rgb(250, 197, 28)][b]Download Link[/b][/color][/size][/center]\\n\"\n",
        "  if Thanks:\n",
        "    if Likes != 0 and Posts == 0:\n",
        "      text_dump += \"[center][hidereactscore={}][hidereact=1,2,3,4,5,6]{}[/hidereact][/hidereactscore][/center]\".format(Likes, Link)\n",
        "    elif Likes == 0 and Posts != 0:\n",
        "      text_dump += \"[center][hideposts={}][hidereact=1,2,3,4,5,6]{}[/hidereact][/hideposts][/center]\".format(Posts, Link)\n",
        "    elif Likes != 0 and Posts != 0:\n",
        "      text_dump += \"[center][hidereactscore={}][hideposts={}][hidereact=1,2,3,4,5,6]{}[/hidereact][/hideposts][/hidereactscore][/center]\".format(Likes, Posts, Link)\n",
        "    else:\n",
        "      text_dump += \"[center][hidereact=1,2,3,4,5,6]{}[/hidereact][/center]\".format(Link)\n",
        "  else:\n",
        "    if Likes != 0 and Posts == 0:\n",
        "      text_dump += \"[center][hidereactscore={}]{}[/hidereactscore][/center]\".format(Likes, Link)\n",
        "    elif Likes == 0 and Posts != 0:\n",
        "      text_dump += \"[center][hideposts={}]{}[/hideposts][/center]\".format(Posts, Link)\n",
        "    elif Likes != 0 and Posts != 0:\n",
        "      text_dump += \"[center][hidereactscore={}][hideposts={}]{}[/hideposts][/hidereactscore][/center]\".format(Likes, Posts, Link)\n",
        "    else:\n",
        "      text_dump += \"[center]{}[/center]\".format(Link)\n",
        "\n",
        "  return text_dump\n",
        "\n",
        "print(get_mal_template(mal_id))\n"
      ],
      "execution_count": null,
      "outputs": []
    },
    {
      "cell_type": "markdown",
      "metadata": {
        "id": "kg25ihU1T0WY"
      },
      "source": [
        "# 23 . Checking Media INFO\n",
        "\n",
        "**(Provided by DisneyPrince and Rudo2204)**"
      ]
    },
    {
      "cell_type": "code",
      "metadata": {
        "id": "NheXiz3QT5hl",
        "cellView": "form"
      },
      "source": [
        "#@title Install package to check mediainfo { vertical-output: true }\n",
        "%%capture\n",
        "!apt install mediainfo"
      ],
      "execution_count": null,
      "outputs": []
    },
    {
      "cell_type": "code",
      "metadata": {
        "id": "jBw8ofiFUAKe",
        "cellView": "form"
      },
      "source": [
        "#@title ⬅️ Run This Cell to generate media info\n",
        "Filepath= \"\" #@param {type:\"string\"}\n",
        "!mediainfo \"$Filepath\""
      ],
      "execution_count": null,
      "outputs": []
    },
    {
      "cell_type": "code",
      "metadata": {
        "id": "RsSdFGSoUTcK",
        "cellView": "form"
      },
      "source": [
        "#@title Install package to perform CRC32 check { vertical-output: true }\n",
        "%%capture\n",
        "!apt install libarchive-zip-perl"
      ],
      "execution_count": null,
      "outputs": []
    },
    {
      "cell_type": "code",
      "metadata": {
        "id": "EtIDxdf1UWwW",
        "cellView": "form"
      },
      "source": [
        "#@title ⬅️ Run This Cell to Perform CRC32 check on a single file\n",
        "Filepath= \"\" #@param {type:\"string\"}\n",
        "!crc32 \"$Filepath\""
      ],
      "execution_count": null,
      "outputs": []
    },
    {
      "cell_type": "code",
      "metadata": {
        "id": "Nwwy8m7EUn3a",
        "cellView": "form"
      },
      "source": [
        "#@title ⬅️ Run This Cell to Perform CRC32 check on all files of that directory\n",
        "Folderpath= \"\" #@param {type:\"string\"}\n",
        "!find \"$Folderpath\" -maxdepth 1 -type f -name \"*.mkv\" -print0 | xargs -0 crc32"
      ],
      "execution_count": null,
      "outputs": []
    },
    {
      "cell_type": "code",
      "metadata": {
        "id": "AZUHDbc5VKDf",
        "cellView": "form"
      },
      "source": [
        "#@title Install package to do SFV file checksum { vertical-output: true }\n",
        "%%capture\n",
        "!apt install cksfv"
      ],
      "execution_count": null,
      "outputs": []
    },
    {
      "cell_type": "code",
      "metadata": {
        "id": "ME5DJ57WVVzY",
        "cellView": "form"
      },
      "source": [
        "#@title ⬅️ Run This Cell to Perform a SFV file Checksum\n",
        "Folderpath= \"/content/test\" #@param {type:\"string\"}\n",
        "!cksfv -g \"$Folderpath\""
      ],
      "execution_count": null,
      "outputs": []
    },
    {
      "cell_type": "markdown",
      "metadata": {
        "id": "Jg6UxrykW77u"
      },
      "source": [
        "# 24 . Screenshot Generator\n",
        "**(Grab the latest code from Forum)**\n",
        "\n",
        "**(Provided by u3eight)**"
      ]
    },
    {
      "cell_type": "code",
      "metadata": {
        "id": "8a8QqaUzW_nX",
        "cellView": "form"
      },
      "source": [
        "#@markdown <h3>⬅️ Run This Cell to generate Screenshots</h3>\n",
        "#@markdown <h4> 1st mount gdrive  and copy the path to video</h4>\n",
        "# ============================= FORM ============================= #\n",
        "get_ipython().system_raw('python3 -m pip install -U hachoir')\n",
        "get_ipython().system_raw('pip3 install opencv-python')\n",
        "get_ipython().system_raw('python3 -m pip install -U urwid')\n",
        "import random, string, urllib.request, json, getpass, os, time, IPython, uuid\n",
        "import ipywidgets as widgets\n",
        "from IPython.display import HTML, clear_output\n",
        "import subprocess\n",
        "import os\n",
        "import numpy as np\n",
        "video_path = \"/content/drive/My Drive/movies/Finding.Steve.McQueen.2019.720p.10bit.BluRay.6CH.x265.HEVC-PSA/Finding.Steve.McQueen.2019.720p.10bit.BluRay.6CH.x265.HEVC-PSA.mkv\" #@param {type:\"string\"}\n",
        "#@markdown <h4> water mark should be a plane text</h4>\n",
        "#@markdown <h5> **you can leave it blank</h5>\n",
        "your_watermark = \"uploaded by me\" #@param {type:\"string\"}\n",
        "\n",
        "save_to_drive = False #@param {type:\"boolean\"}\n",
        "\n",
        "#@markdown ---\n",
        "import cv2\n",
        "path=video_path.split('/')\n",
        "filename=path[-1]\n",
        "framelist=[]\n",
        "path[-1]=''\n",
        "\n",
        "#frame length\n",
        "cap = cv2.VideoCapture(video_path)\n",
        "length = int(cap.get(cv2.CAP_PROP_FRAME_COUNT))\n",
        "print( length )\n",
        "print('The video you have selected has',length,'frames')\n",
        "des=input('how would you like to proceed \\n\\t 1 - Manually enter the frame numbers \\n\\t 2 - Specify the number of screenshots you need\\n')\n",
        "if des == '1' :\n",
        "  print(\"Enter frame number one by one and type 'f' to generate screenshots\")\n",
        "  while True :\n",
        "    newf=(input(\"Enter a frame number : \"))\n",
        "    \n",
        "    if newf == 'finish'or newf == 'f'or newf == 'F':\n",
        "      break\n",
        "    try:\n",
        "      if int(newf) > length :\n",
        "    \n",
        "        print('Please enter values lower than the total Frame count \\n This video has',length,'frames')\n",
        "        continue\n",
        "    \n",
        "      framelist.append(int(newf))\n",
        "    except ValueError as e:\n",
        "      print('Please enter numbers')\n",
        "\n",
        "elif des == '2' :\n",
        "  totscr=int(input('How many screenshots do you need : '))\n",
        "  for i in range(1,totscr+1):\n",
        "    framelist.append(round((i/(totscr+1))*length))\n",
        "\n",
        "else :\n",
        "  print('please enter 1 or 2')\n",
        "#\n",
        "pathstr = '/'.join(str(part)for part in path)\n",
        "# Opens the Video file\n",
        "cap= cv2.VideoCapture(video_path)\n",
        "i=0\n",
        "if save_to_drive == True:\n",
        "  get_ipython().system_raw(\"mkdir -p \"+'\"'+str(pathstr)+'screens_by_u3eight\"')\n",
        "#a3= subprocess.Popen(['cd',os.path(pathstr)],stdout=subprocess.PIPE)\n",
        "#p2 = subprocess.Popen(['mkdir','screenshots_by_u3eight'], stdout=subprocess.PIPE)\n",
        "#while(cap.isOpened()):\n",
        "for k in framelist:\n",
        "   cap.set(1,int(k))\n",
        "   ret, frame = cap.read()\n",
        "   if ret == False:\n",
        "        break\n",
        "   if not(your_watermark==\"\"):\n",
        "\n",
        "      font = cv2.FONT_HERSHEY_SIMPLEX\n",
        "      cv2.putText(frame,your_watermark,(10,500), font, 1,(255,255,255),1,cv2.LINE_AA)\n",
        "   cv2.imwrite(filename+str(k)+'.jpg',frame)\n",
        "   if save_to_drive == True:\n",
        "      p1 = subprocess.Popen([\"mv\", filename+str(k)+'.jpg',pathstr+str('screens_by_u3eight/')], stdout=subprocess.PIPE)\n",
        "    \n",
        "\n",
        "cap.release()\n",
        "cv2.destroyAllWindows()\n",
        "clear_output()\n",
        "display(HTML(\"<center><h2 style=\\\"font-family:Trebuchet MS;color:#008000;\\\">All done</h2><br></center>\"))"
      ],
      "execution_count": null,
      "outputs": []
    }
  ]
}